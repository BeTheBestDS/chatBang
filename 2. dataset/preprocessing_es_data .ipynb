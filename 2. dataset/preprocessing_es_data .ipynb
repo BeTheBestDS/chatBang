{
 "cells": [
  {
   "cell_type": "code",
   "execution_count": 1,
   "metadata": {},
   "outputs": [],
   "source": [
    "import pandas as pd\n",
    "import numpy as np\n",
    "import warnings\n",
    "\n",
    "warnings.filterwarnings(\"ignore\")"
   ]
  },
  {
   "cell_type": "code",
   "execution_count": 2,
   "metadata": {},
   "outputs": [],
   "source": [
    "es_data = pd.read_csv('data/raw_data/2023년도_학교기본정보(초)_전체.csv')\n",
    "nav_data = pd.read_csv('data/raw_data/apt_info_data_raw.csv', encoding='cp949')"
   ]
  },
  {
   "cell_type": "code",
   "execution_count": 4,
   "metadata": {},
   "outputs": [],
   "source": [
    "es_data['학교도로명 주소'] = es_data['학교도로명 주소'].fillna('충청남도 당진시')"
   ]
  },
  {
   "cell_type": "code",
   "execution_count": 5,
   "metadata": {},
   "outputs": [],
   "source": [
    "es_data['지역'] = es_data['학교도로명 주소'].apply(lambda x: ' '.join(x.split()[:2-x.startswith('세종')]))"
   ]
  },
  {
   "cell_type": "code",
   "execution_count": 6,
   "metadata": {},
   "outputs": [],
   "source": [
    "es_data['학교명'] = es_data['지역'] + ' '+ es_data['학교명']"
   ]
  },
  {
   "cell_type": "code",
   "execution_count": 7,
   "metadata": {},
   "outputs": [],
   "source": [
    "for s in ['특별','자치','광역']: es_data['학교명'] = es_data['학교명'].str.replace(s,'')"
   ]
  },
  {
   "cell_type": "code",
   "execution_count": 8,
   "metadata": {},
   "outputs": [],
   "source": [
    "for c in ['서울', '광주', '대전', '울산']: \n",
    "    es_data['학교명'] = es_data['학교명'].str.replace(c+' ', c+'시 ')\n",
    "for k,v in {'경기 ':'경기도 ', '전북 ':'전라북도 ', '경남 ':'경상남도 '}.items():\n",
    "    es_data['학교명'] = es_data['학교명'].str.replace(k,v)"
   ]
  },
  {
   "cell_type": "code",
   "execution_count": 9,
   "metadata": {},
   "outputs": [
    {
     "data": {
      "text/plain": [
       "(0,)"
      ]
     },
     "execution_count": 9,
     "metadata": {},
     "output_type": "execute_result"
    }
   ],
   "source": [
    "es_data['학교명'].value_counts()[es_data['학교명'].value_counts()>1].shape"
   ]
  },
  {
   "cell_type": "code",
   "execution_count": 10,
   "metadata": {},
   "outputs": [],
   "source": [
    "nav_es = nav_data[nav_data['세대수']>=100][['아파트명','법정동주소','도로명주소','초등학교_학군정보']].drop_duplicates('초등학교_학군정보').dropna()"
   ]
  },
  {
   "cell_type": "code",
   "execution_count": 11,
   "metadata": {},
   "outputs": [],
   "source": [
    "nav_es['초등학교명'] = nav_es['도로명주소'].apply(lambda x: ' '.join(x.split()[:2-x.startswith('세종')])) + ' ' + nav_es['초등학교_학군정보']"
   ]
  },
  {
   "cell_type": "code",
   "execution_count": 12,
   "metadata": {},
   "outputs": [
    {
     "data": {
      "text/plain": [
       "(0,)"
      ]
     },
     "execution_count": 12,
     "metadata": {},
     "output_type": "execute_result"
    }
   ],
   "source": [
    "nav_es['초등학교명'].value_counts()[nav_es['초등학교명'].value_counts()>1].shape"
   ]
  },
  {
   "cell_type": "code",
   "execution_count": 13,
   "metadata": {},
   "outputs": [
    {
     "data": {
      "text/plain": [
       "{'경기도 과천시 해오름초등학교',\n",
       " '경기도 의정부시 서울누원초등학교',\n",
       " '광주시 남구 광주양동초등학교',\n",
       " '광주시 동구 광주중흥초등학교',\n",
       " '대구시 동구 대구동인초등학교',\n",
       " '대구시 북구 대구달성초등학교',\n",
       " '대구시 북구 대구인지초등학교',\n",
       " '대구시 북구 대구종로초등학교',\n",
       " '대구시 수성구 대구삼덕초등학교',\n",
       " '대구시 중구 대구대성초등학교',\n",
       " '대전시 대덕구 대전용전초등학교',\n",
       " '대전시 대덕구 동대전초등학교',\n",
       " '대전시 동구 대전동산초등학교',\n",
       " '대전시 동구 대전선화초등학교',\n",
       " '대전시 서구 흥도초등학교',\n",
       " '부산시 금정구 교동초등학교',\n",
       " '부산시 금정구 명서초등학교',\n",
       " '부산시 남구 남천초등학교',\n",
       " '부산시 남구 성북초등학교',\n",
       " '부산시 남구 성서초등학교',\n",
       " '부산시 동구 좌성초등학교',\n",
       " '부산시 동래구 거학초등학교',\n",
       " '부산시 동래구 반안초등학교',\n",
       " '부산시 동래구 창신초등학교',\n",
       " '부산시 해운대구 위봉초등학교',\n",
       " '서울시 강북구 서울길음초등학교',\n",
       " '서울시 강북구 서울백운초등학교',\n",
       " '서울시 강북구 서울쌍문초등학교',\n",
       " '서울시 강서구 서울강신초등학교',\n",
       " '서울시 강서구 서울신강초등학교',\n",
       " '서울시 강서구 서울양동초등학교',\n",
       " '서울시 관악구 서울보라매초등학교',\n",
       " '서울시 관악구 서울행림초등학교',\n",
       " '서울시 광진구 서울경수초등학교',\n",
       " '서울시 광진구 서울성수초등학교',\n",
       " '서울시 광진구 서울화양초등학교',\n",
       " '서울시 구로구 서울가산초등학교',\n",
       " '서울시 금천구 서울영일초등학교',\n",
       " '서울시 노원구 서울신화초등학교',\n",
       " '서울시 노원구 서울창일초등학교',\n",
       " '서울시 동대문구 서울석계초등학교',\n",
       " '서울시 마포구 서울창서초등학교',\n",
       " '서울시 서대문구 서울응암초등학교',\n",
       " '서울시 서초구 서울반포초등학교',\n",
       " '서울시 성동구 서울신당초등학교',\n",
       " '서울시 성북구 서울명신초등학교',\n",
       " '서울시 종로구 서울광희초등학교',\n",
       " '서울시 종로구 서울덕수초등학교',\n",
       " '울산시 남구 굴화초등학교',\n",
       " '울산시 남구 무거초등학교',\n",
       " '인천시 남동구 인천경원초등학교',\n",
       " '인천시 남동구 인천동암초등학교',\n",
       " '인천시 미추홀구 인천관교초등학교',\n",
       " '인천시 미추홀구 인천신광초등학교',\n",
       " '인천시 미추홀구 인천신선초등학교',\n",
       " '인천시 미추홀구 인천용현남초등학교',\n",
       " '인천시 미추홀구 인천인주초등학교',\n",
       " '인천시 미추홀구 인천창영초등학교',\n",
       " '전라북도 군산시 군산아리울초등학교',\n",
       " '충청남도 아산시 천안서당초등학교',\n",
       " '충청남도 아산시 천안쌍정초등학교'}"
      ]
     },
     "execution_count": 13,
     "metadata": {},
     "output_type": "execute_result"
    }
   ],
   "source": [
    "diff = set(nav_es['초등학교명']) - set(es_data['학교명'])\n",
    "diff"
   ]
  },
  {
   "cell_type": "code",
   "execution_count": 19,
   "metadata": {},
   "outputs": [],
   "source": [
    "es_data['학교명'] = es_data['학교명'].apply(lambda x: ' '.join(x.split()[::2]) if x.split()[-1] in diff else x)\n",
    "nav_es['초등학교명'] = nav_es['초등학교명'].apply(lambda x: ' '.join(x.split()[::2]) if x.split()[-1] in diff else x)"
   ]
  },
  {
   "cell_type": "code",
   "execution_count": 20,
   "metadata": {},
   "outputs": [
    {
     "data": {
      "text/plain": [
       "(0,)"
      ]
     },
     "execution_count": 20,
     "metadata": {},
     "output_type": "execute_result"
    }
   ],
   "source": [
    "es_data['학교명'].value_counts()[es_data['학교명'].value_counts()>1].shape"
   ]
  },
  {
   "cell_type": "code",
   "execution_count": 21,
   "metadata": {},
   "outputs": [
    {
     "data": {
      "text/plain": [
       "Series([], Name: count, dtype: int64)"
      ]
     },
     "execution_count": 21,
     "metadata": {},
     "output_type": "execute_result"
    }
   ],
   "source": [
    "es_data['학교명'].value_counts()[es_data['학교명'].value_counts()>1]"
   ]
  },
  {
   "cell_type": "code",
   "execution_count": 22,
   "metadata": {},
   "outputs": [
    {
     "data": {
      "text/html": [
       "<div>\n",
       "<style scoped>\n",
       "    .dataframe tbody tr th:only-of-type {\n",
       "        vertical-align: middle;\n",
       "    }\n",
       "\n",
       "    .dataframe tbody tr th {\n",
       "        vertical-align: top;\n",
       "    }\n",
       "\n",
       "    .dataframe thead th {\n",
       "        text-align: right;\n",
       "    }\n",
       "</style>\n",
       "<table border=\"1\" class=\"dataframe\">\n",
       "  <thead>\n",
       "    <tr style=\"text-align: right;\">\n",
       "      <th></th>\n",
       "      <th>아파트명</th>\n",
       "      <th>법정동주소</th>\n",
       "      <th>도로명주소</th>\n",
       "      <th>초등학교_학군정보</th>\n",
       "      <th>초등학교명</th>\n",
       "    </tr>\n",
       "  </thead>\n",
       "  <tbody>\n",
       "  </tbody>\n",
       "</table>\n",
       "</div>"
      ],
      "text/plain": [
       "Empty DataFrame\n",
       "Columns: [아파트명, 법정동주소, 도로명주소, 초등학교_학군정보, 초등학교명]\n",
       "Index: []"
      ]
     },
     "execution_count": 22,
     "metadata": {},
     "output_type": "execute_result"
    }
   ],
   "source": [
    "nav_es[nav_es['초등학교명']=='강원도 교동초등학교']"
   ]
  },
  {
   "cell_type": "code",
   "execution_count": 17,
   "metadata": {},
   "outputs": [
    {
     "data": {
      "text/plain": [
       "(0,)"
      ]
     },
     "execution_count": 17,
     "metadata": {},
     "output_type": "execute_result"
    }
   ],
   "source": [
    "nav_es['초등학교명'].value_counts()[nav_es['초등학교명'].value_counts()>1].shape"
   ]
  },
  {
   "cell_type": "code",
   "execution_count": 25,
   "metadata": {},
   "outputs": [
    {
     "data": {
      "text/plain": [
       "6317"
      ]
     },
     "execution_count": 25,
     "metadata": {},
     "output_type": "execute_result"
    }
   ],
   "source": [
    "len(set(es_data['학교명']))"
   ]
  },
  {
   "cell_type": "code",
   "execution_count": 18,
   "metadata": {},
   "outputs": [
    {
     "data": {
      "text/plain": [
       "{'경기도 서울누원초등학교',\n",
       " '부산시 위봉초등학교',\n",
       " '부산시 좌성초등학교',\n",
       " '서울시 서울반포초등학교',\n",
       " '서울시 서울화양초등학교',\n",
       " '전라북도 군산아리울초등학교'}"
      ]
     },
     "execution_count": 18,
     "metadata": {},
     "output_type": "execute_result"
    }
   ],
   "source": [
    "diff = set(nav_es['초등학교명']) - set(es_data['학교명'])\n",
    "diff"
   ]
  },
  {
   "cell_type": "markdown",
   "metadata": {},
   "source": [
    "좌성초등학교 - 폐교\n",
    "\n",
    "위봉초등학교 - 폐교\n",
    "\n",
    "서울화양초등학교 - 폐교\n",
    "\n",
    "서울반포초등학교 - 재건축으로 인한 휴교 -> 수작업으로 데이터 추가\n",
    "\n",
    "서울누원초등학교 - 아파트 위치는 경기도지만 서울 초등학교 배정 -> 결합 시 예외처리"
   ]
  },
  {
   "cell_type": "code",
   "execution_count": 19,
   "metadata": {},
   "outputs": [
    {
     "data": {
      "text/html": [
       "<div>\n",
       "<style scoped>\n",
       "    .dataframe tbody tr th:only-of-type {\n",
       "        vertical-align: middle;\n",
       "    }\n",
       "\n",
       "    .dataframe tbody tr th {\n",
       "        vertical-align: top;\n",
       "    }\n",
       "\n",
       "    .dataframe thead th {\n",
       "        text-align: right;\n",
       "    }\n",
       "</style>\n",
       "<table border=\"1\" class=\"dataframe\">\n",
       "  <thead>\n",
       "    <tr style=\"text-align: right;\">\n",
       "      <th></th>\n",
       "      <th>아파트명</th>\n",
       "      <th>법정동주소</th>\n",
       "      <th>도로명주소</th>\n",
       "      <th>초등학교_학군정보</th>\n",
       "      <th>초등학교명</th>\n",
       "    </tr>\n",
       "  </thead>\n",
       "  <tbody>\n",
       "    <tr>\n",
       "      <th>173311</th>\n",
       "      <td>군산수송세영리첼</td>\n",
       "      <td>전라북도 군산시 수송동 830-1</td>\n",
       "      <td>전라북도 군산시 수송동로 100</td>\n",
       "      <td>군산아리울초등학교</td>\n",
       "      <td>전라북도 군산아리울초등학교</td>\n",
       "    </tr>\n",
       "  </tbody>\n",
       "</table>\n",
       "</div>"
      ],
      "text/plain": [
       "            아파트명               법정동주소              도로명주소  초등학교_학군정보  \\\n",
       "173311  군산수송세영리첼  전라북도 군산시 수송동 830-1  전라북도 군산시 수송동로 100  군산아리울초등학교   \n",
       "\n",
       "                 초등학교명  \n",
       "173311  전라북도 군산아리울초등학교  "
      ]
     },
     "execution_count": 19,
     "metadata": {},
     "output_type": "execute_result"
    }
   ],
   "source": [
    "nav_es[nav_es['초등학교명'].str.contains('아리울')]"
   ]
  },
  {
   "cell_type": "code",
   "execution_count": 20,
   "metadata": {},
   "outputs": [],
   "source": [
    "idx = es_data[es_data['학교명'].str.contains('아리울')].index\n",
    "es_data.loc[idx, '학교명'] = '전라북도 군산아리울초등학교'"
   ]
  },
  {
   "cell_type": "code",
   "execution_count": 21,
   "metadata": {},
   "outputs": [
    {
     "data": {
      "text/html": [
       "<div>\n",
       "<style scoped>\n",
       "    .dataframe tbody tr th:only-of-type {\n",
       "        vertical-align: middle;\n",
       "    }\n",
       "\n",
       "    .dataframe tbody tr th {\n",
       "        vertical-align: top;\n",
       "    }\n",
       "\n",
       "    .dataframe thead th {\n",
       "        text-align: right;\n",
       "    }\n",
       "</style>\n",
       "<table border=\"1\" class=\"dataframe\">\n",
       "  <thead>\n",
       "    <tr style=\"text-align: right;\">\n",
       "      <th></th>\n",
       "      <th>학교명</th>\n",
       "      <th>위도</th>\n",
       "      <th>경도</th>\n",
       "    </tr>\n",
       "  </thead>\n",
       "  <tbody>\n",
       "    <tr>\n",
       "      <th>0</th>\n",
       "      <td>서울시 서초구 서울교육대학교부설초등학교</td>\n",
       "      <td>37.490739</td>\n",
       "      <td>127.015424</td>\n",
       "    </tr>\n",
       "    <tr>\n",
       "      <th>1</th>\n",
       "      <td>서울시 종로구 서울대학교사범대학부설초등학교</td>\n",
       "      <td>37.577017</td>\n",
       "      <td>127.003091</td>\n",
       "    </tr>\n",
       "    <tr>\n",
       "      <th>2</th>\n",
       "      <td>서울시 강남구 서울개일초등학교</td>\n",
       "      <td>37.486214</td>\n",
       "      <td>127.057742</td>\n",
       "    </tr>\n",
       "    <tr>\n",
       "      <th>3</th>\n",
       "      <td>서울시 강남구 서울개포초등학교</td>\n",
       "      <td>37.486805</td>\n",
       "      <td>127.069977</td>\n",
       "    </tr>\n",
       "    <tr>\n",
       "      <th>4</th>\n",
       "      <td>서울시 강남구 서울구룡초등학교</td>\n",
       "      <td>37.481193</td>\n",
       "      <td>127.051755</td>\n",
       "    </tr>\n",
       "    <tr>\n",
       "      <th>...</th>\n",
       "      <td>...</td>\n",
       "      <td>...</td>\n",
       "      <td>...</td>\n",
       "    </tr>\n",
       "    <tr>\n",
       "      <th>6315</th>\n",
       "      <td>제주도 제주시 이도초등학교</td>\n",
       "      <td>33.488121</td>\n",
       "      <td>126.531991</td>\n",
       "    </tr>\n",
       "    <tr>\n",
       "      <th>6316</th>\n",
       "      <td>제주도 제주시 도련초등학교</td>\n",
       "      <td>33.514019</td>\n",
       "      <td>126.584301</td>\n",
       "    </tr>\n",
       "    <tr>\n",
       "      <th>6317</th>\n",
       "      <td>제주도 제주시 삼화초등학교</td>\n",
       "      <td>33.515224</td>\n",
       "      <td>126.577005</td>\n",
       "    </tr>\n",
       "    <tr>\n",
       "      <th>6318</th>\n",
       "      <td>제주도 제주시 하귀일초등학교</td>\n",
       "      <td>33.483420</td>\n",
       "      <td>126.415364</td>\n",
       "    </tr>\n",
       "    <tr>\n",
       "      <th>6319</th>\n",
       "      <td>서울시 서초구 서울반포초등학교</td>\n",
       "      <td>37.502700</td>\n",
       "      <td>126.991100</td>\n",
       "    </tr>\n",
       "  </tbody>\n",
       "</table>\n",
       "<p>6320 rows × 3 columns</p>\n",
       "</div>"
      ],
      "text/plain": [
       "                          학교명         위도          경도\n",
       "0       서울시 서초구 서울교육대학교부설초등학교  37.490739  127.015424\n",
       "1     서울시 종로구 서울대학교사범대학부설초등학교  37.577017  127.003091\n",
       "2            서울시 강남구 서울개일초등학교  37.486214  127.057742\n",
       "3            서울시 강남구 서울개포초등학교  37.486805  127.069977\n",
       "4            서울시 강남구 서울구룡초등학교  37.481193  127.051755\n",
       "...                       ...        ...         ...\n",
       "6315           제주도 제주시 이도초등학교  33.488121  126.531991\n",
       "6316           제주도 제주시 도련초등학교  33.514019  126.584301\n",
       "6317           제주도 제주시 삼화초등학교  33.515224  126.577005\n",
       "6318          제주도 제주시 하귀일초등학교  33.483420  126.415364\n",
       "6319         서울시 서초구 서울반포초등학교  37.502700  126.991100\n",
       "\n",
       "[6320 rows x 3 columns]"
      ]
     },
     "execution_count": 21,
     "metadata": {},
     "output_type": "execute_result"
    }
   ],
   "source": [
    "es_data = es_data[['학교명','위도','경도']]\n",
    "es_data.loc[len(es_data)] = ['서울시 서초구 서울반포초등학교', 37.5027, 126.9911]\n",
    "es_data"
   ]
  },
  {
   "cell_type": "code",
   "execution_count": 22,
   "metadata": {},
   "outputs": [],
   "source": [
    "es_data.to_csv('data/es_data.csv', encoding='cp949', index=False)"
   ]
  },
  {
   "cell_type": "code",
   "execution_count": 27,
   "metadata": {},
   "outputs": [
    {
     "data": {
      "text/plain": [
       "{'경기도 서울누원초등학교', '부산시 위봉초등학교', '부산시 좌성초등학교', '서울시 서울반포초등학교', '서울시 서울화양초등학교'}"
      ]
     },
     "execution_count": 27,
     "metadata": {},
     "output_type": "execute_result"
    }
   ],
   "source": [
    "diff = set(nav_es['초등학교명']) - set(es_data['학교명'])\n",
    "diff"
   ]
  }
 ],
 "metadata": {
  "kernelspec": {
   "display_name": "Python 3",
   "language": "python",
   "name": "python3"
  },
  "language_info": {
   "codemirror_mode": {
    "name": "ipython",
    "version": 3
   },
   "file_extension": ".py",
   "mimetype": "text/x-python",
   "name": "python",
   "nbconvert_exporter": "python",
   "pygments_lexer": "ipython3",
   "version": "3.10.11"
  }
 },
 "nbformat": 4,
 "nbformat_minor": 2
}
