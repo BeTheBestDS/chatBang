{
 "cells": [
  {
   "cell_type": "code",
   "execution_count": 1,
   "metadata": {},
   "outputs": [],
   "source": [
    "import pandas as pd\n",
    "import numpy as np\n",
    "import warnings\n",
    "\n",
    "warnings.filterwarnings(\"ignore\")"
   ]
  },
  {
   "cell_type": "code",
   "execution_count": 2,
   "metadata": {},
   "outputs": [],
   "source": [
    "data = pd.read_csv('data/raw_data/apt_info_data_건설사수정.csv', encoding='cp949')"
   ]
  },
  {
   "cell_type": "markdown",
   "metadata": {},
   "source": [
    "### 네이버 부동산 아파트 단지 정보 데이터"
   ]
  },
  {
   "cell_type": "markdown",
   "metadata": {},
   "source": [
    "#### 불필요한 컬럼 제거"
   ]
  },
  {
   "cell_type": "code",
   "execution_count": 3,
   "metadata": {},
   "outputs": [],
   "source": [
    "data.drop([\n",
    "    '면적','최저층','난방','공급면적','해당면적_세대수',\n",
    "    '재산세','재산세합계','지방교육세','재산세_도시지역분','종합부동산세',\n",
    "    '결정세액','농어촌특별세','가격','겨울관리비','여름관리비',\n",
    "    '매매호가','전세호가','월세호가','실거래가'], axis=1, inplace=True)"
   ]
  },
  {
   "cell_type": "markdown",
   "metadata": {},
   "source": [
    "#### 전처리 필요한 컬럼들 처리"
   ]
  },
  {
   "cell_type": "code",
   "execution_count": 4,
   "metadata": {},
   "outputs": [],
   "source": [
    "for col in ['방수','욕실수']: data[col] = data[col].replace('-',0).astype(int)"
   ]
  },
  {
   "cell_type": "markdown",
   "metadata": {},
   "source": [
    "#### 일정 이상 전용면적, 세대수만 사용"
   ]
  },
  {
   "cell_type": "code",
   "execution_count": 5,
   "metadata": {},
   "outputs": [],
   "source": [
    "data = data[(data['전용면적']>=40) & (data['세대수']>=100)].reset_index(drop=True)"
   ]
  },
  {
   "cell_type": "code",
   "execution_count": 6,
   "metadata": {},
   "outputs": [
    {
     "data": {
      "text/plain": [
       "(84238, 21)"
      ]
     },
     "execution_count": 6,
     "metadata": {},
     "output_type": "execute_result"
    }
   ],
   "source": [
    "data.shape"
   ]
  },
  {
   "cell_type": "markdown",
   "metadata": {},
   "source": [
    "#### 기존 컬럼 가공"
   ]
  },
  {
   "cell_type": "markdown",
   "metadata": {},
   "source": [
    "- (신규) 임대세대비율 : 임대세대수 / 세대수\n",
    "- (신규) 세대당_주차대수 : 주차대수 / 세대수\n",
    "- 현관구조 : label encoding\n",
    "- 초등학교_설립정보 : label encoding\n",
    "- 초등학교_학생수 : 남학생수 + 여학생수"
   ]
  },
  {
   "cell_type": "code",
   "execution_count": 7,
   "metadata": {},
   "outputs": [
    {
     "data": {
      "text/plain": [
       "(array([0, 0, 0, ..., 0, 0, 0], dtype=int64),\n",
       " Index(['계단식', '복합식', '복도식'], dtype='object'))"
      ]
     },
     "execution_count": 7,
     "metadata": {},
     "output_type": "execute_result"
    }
   ],
   "source": [
    "data['현관구조'].factorize()"
   ]
  },
  {
   "cell_type": "code",
   "execution_count": 8,
   "metadata": {},
   "outputs": [
    {
     "data": {
      "text/plain": [
       "(array([ 0,  0,  0, ..., -1, -1, -1], dtype=int64),\n",
       " Index(['공립', '혁신'], dtype='object'))"
      ]
     },
     "execution_count": 8,
     "metadata": {},
     "output_type": "execute_result"
    }
   ],
   "source": [
    "data['초등학교_설립정보'].factorize()"
   ]
  },
  {
   "cell_type": "code",
   "execution_count": 9,
   "metadata": {},
   "outputs": [],
   "source": [
    "data['임대세대비율'] = data['임대세대수'] / data['세대수']\n",
    "data['세대당_주차대수'] = data['주차대수'] / data['세대수']\n",
    "data['현관구조'] = data['현관구조'].factorize()[0]\n",
    "data['초등학교_설립정보'] = data['초등학교_설립정보'].factorize()[0]\n",
    "data['초등학교_학생수'] = data['초등학교_남학생수'].fillna(0) + data['초등학교_여학생수'].fillna(0)"
   ]
  },
  {
   "cell_type": "markdown",
   "metadata": {},
   "source": [
    "- 전용면적구간: 60 미만, 75 미만, 85 미만, 103 미만, 103 이상으로 분류"
   ]
  },
  {
   "cell_type": "code",
   "execution_count": 10,
   "metadata": {},
   "outputs": [],
   "source": [
    "for i in range(4): data[f'temp_{i}'] = data['전용면적'] >= [60, 75, 85, 103][i]\n",
    "data['전용면적구간'] = data[[f'temp_{i}' for i in range(4)]].sum(axis=1)\n",
    "data.drop([f'temp_{i}' for i in range(4)], axis=1, inplace=True)\n",
    "data.drop(['임대세대수','주차대수','초등학교_남학생수','초등학교_여학생수','전용면적'], axis=1, inplace=True)\n",
    "data.reset_index(drop=True, inplace=True)"
   ]
  },
  {
   "cell_type": "markdown",
   "metadata": {},
   "source": [
    "- 건설사: 시공능력평가 10위 이내 건설사인지 아닌지 구분\n",
    "- 삼성물산, 현대건설, 대우건설, 현대엔지니어링, GS건설, DL이앤씨, 포스코이앤씨, 롯데건설, SK에코플랜트, 호반건설\n",
    "- 별도의 노트북에 작성"
   ]
  },
  {
   "cell_type": "markdown",
   "metadata": {},
   "source": [
    "#### 중복된 주소 있는지 체크"
   ]
  },
  {
   "cell_type": "markdown",
   "metadata": {},
   "source": [
    "- 도로명주소, 법정동주소 중복되는 아파트 각각 약 200여개씩 존재\n",
    "\n",
    "- 대부분 하나의 아파트단지로 봐도 무방한 경우\n",
    "\n",
    "- 도로명주소가 잘못된 경우 법정동 주소 사용"
   ]
  },
  {
   "cell_type": "code",
   "execution_count": 11,
   "metadata": {},
   "outputs": [
    {
     "data": {
      "text/plain": [
       "(39811, 20)"
      ]
     },
     "execution_count": 11,
     "metadata": {},
     "output_type": "execute_result"
    }
   ],
   "source": [
    "idx = data[data['도로명주소'].isin(['대구시 동구', '대구시 수성구'])].index\n",
    "data.loc[idx,'도로명주소'] = data.loc[idx, '법정동주소'].str.replace('[번지|일원]','', regex=True).apply(lambda x: x.strip())\n",
    "data = data.drop_duplicates(['도로명주소','전용면적구간']).reset_index(drop=True)\n",
    "data.shape"
   ]
  },
  {
   "cell_type": "markdown",
   "metadata": {},
   "source": [
    "#### 지하철 데이터 결합"
   ]
  },
  {
   "cell_type": "markdown",
   "metadata": {},
   "source": [
    "- 하버사인 공식 이용하여 아파트 단지와 역 과의 거리 산출\n",
    "- 직접 역세권: 500m이내, 간접 역세권: 1km 이내\n",
    "- 값: 노선 개수만 활용, 나머지는 디버그용"
   ]
  },
  {
   "cell_type": "code",
   "execution_count": 12,
   "metadata": {},
   "outputs": [],
   "source": [
    "sub_data = pd.read_csv('data/subway.csv', encoding='cp949')"
   ]
  },
  {
   "cell_type": "code",
   "execution_count": 13,
   "metadata": {},
   "outputs": [],
   "source": [
    "def haversine_np(lat1,lon1,lat2,lon2):\n",
    "    lat1,lon1,lat2,lon2 = map(np.radians, [lat1,lon1,lat2,lon2])\n",
    "    dlon,dlat = lon2-lon1,lat2-lat1\n",
    "    a = np.sin(dlat/2.0)**2 + np.cos(lat1) * np.cos(lat2) * np.sin(dlon/2.0)**2\n",
    "    c = 2 * np.arcsin(np.sqrt(a))\n",
    "    return 6371000*c"
   ]
  },
  {
   "cell_type": "code",
   "execution_count": 14,
   "metadata": {},
   "outputs": [
    {
     "name": "stdout",
     "output_type": "stream",
     "text": [
      "84/19671 completed."
     ]
    },
    {
     "name": "stdout",
     "output_type": "stream",
     "text": [
      "19671/19671 completed."
     ]
    }
   ],
   "source": [
    "table = data[['도로명주소', 'latitude', 'longitude']].drop_duplicates().reset_index(drop=True)\n",
    "arr = []\n",
    "for idx, row in table.iterrows():\n",
    "    lat1, lon1 = row['latitude'], row['longitude']\n",
    "    dist = haversine_np(lat1, lon1, sub_data['위도'], sub_data['경도'])\n",
    "    tmp = []\n",
    "    for i in range(2):\n",
    "        j = dist[dist<=[500,1000][i]].index\n",
    "        tmp += [\n",
    "            sub_data.loc[j,'호선'].nunique(), \n",
    "            *map(lambda x: ', '.join(sorted(sub_data.loc[j][x].unique())),['호선','역사명'])\n",
    "            ]\n",
    "    arr += tmp\n",
    "    print(f'\\r{idx+1}/{table.shape[0]} completed.', end='')"
   ]
  },
  {
   "cell_type": "code",
   "execution_count": 15,
   "metadata": {},
   "outputs": [],
   "source": [
    "cols = ['직접역세권_노선수', '직접역세권_노선', '직접역세권_역', \n",
    "        '간접역세권_노선수', '간접역세권_노선', '간접역세권_역']\n",
    "table[cols] = np.array(arr).reshape(-1,6)\n",
    "data = data.merge(table, on=['도로명주소','latitude','longitude'])"
   ]
  },
  {
   "cell_type": "markdown",
   "metadata": {},
   "source": [
    "#### 고속철 데이터 결합"
   ]
  },
  {
   "cell_type": "markdown",
   "metadata": {},
   "source": [
    "- 직접 역세권: 1km 이내, 간접 역세권: 5km 이내\n",
    "- 범위 내에 역이 존재하는지 여부를 활용 (0: 해당사항없음, 1: 간접역세권, 2: 직접역세권)\n",
    "- 역명: 디버그용"
   ]
  },
  {
   "cell_type": "code",
   "execution_count": 16,
   "metadata": {},
   "outputs": [],
   "source": [
    "train_data = pd.read_csv('data/train.csv', encoding='cp949')"
   ]
  },
  {
   "cell_type": "code",
   "execution_count": 17,
   "metadata": {},
   "outputs": [
    {
     "name": "stdout",
     "output_type": "stream",
     "text": [
      "19671/19671 completed."
     ]
    }
   ],
   "source": [
    "table = data[['도로명주소', 'latitude', 'longitude']].drop_duplicates().reset_index(drop=True)\n",
    "arr = []\n",
    "for idx, row in table.iterrows():\n",
    "    lat1, lon1 = row['latitude'], row['longitude']\n",
    "    dist = haversine_np(lat1, lon1, train_data['위도좌표'], train_data['경도좌표'])\n",
    "    tmp = [0]\n",
    "    for i in range(2):\n",
    "        j = dist[dist<=[1000,5000][i]].index\n",
    "        tmp[0] += len(j)>0\n",
    "        tmp += [', '.join(sorted(train_data.loc[j,'역이름'].unique()))]\n",
    "    arr += tmp\n",
    "    print(f'\\r{idx+1}/{table.shape[0]} completed.', end='')"
   ]
  },
  {
   "cell_type": "code",
   "execution_count": 18,
   "metadata": {},
   "outputs": [],
   "source": [
    "table[['고속철_직접역세권_여부', '고속철_직접역세권_역명', '고속철_간접역세권_역명']] = np.array(arr).reshape(-1,3)\n",
    "data = data.merge(table, on=['도로명주소','latitude','longitude'])"
   ]
  },
  {
   "cell_type": "markdown",
   "metadata": {},
   "source": [
    "#### 중학교 데이터 결합"
   ]
  },
  {
   "cell_type": "code",
   "execution_count": 19,
   "metadata": {},
   "outputs": [],
   "source": [
    "ms_data = pd.read_csv('data/ms_data.csv', encoding='cp949')"
   ]
  },
  {
   "cell_type": "markdown",
   "metadata": {},
   "source": [
    "- 위,경도 이상치 직접 수정"
   ]
  },
  {
   "cell_type": "markdown",
   "metadata": {},
   "source": [
    "- 가장 가까운 중학교의 학생 수 및 평균 학업성취도\n",
    "- 만약 일정 거리 이내에 중학교가 없을 시, 가장 가까운 학교를 사용할 것인지 결측치로 둘 것 인지"
   ]
  },
  {
   "cell_type": "code",
   "execution_count": 20,
   "metadata": {},
   "outputs": [
    {
     "name": "stdout",
     "output_type": "stream",
     "text": [
      "12/19671 completed."
     ]
    },
    {
     "name": "stdout",
     "output_type": "stream",
     "text": [
      "19671/19671 completed."
     ]
    }
   ],
   "source": [
    "table = data[['도로명주소', 'latitude', 'longitude']].drop_duplicates().reset_index(drop=True)\n",
    "arr = []\n",
    "for idx, row in table.iterrows():\n",
    "    lat1, lon1 = row['latitude'], row['longitude']\n",
    "    dist = haversine_np(lat1, lon1, ms_data['위도'], ms_data['경도'])\n",
    "    arr += [ms_data.iloc[dist.argmin(),[0,3,4]].to_list()+[min(dist)]]\n",
    "    print(f'\\r{idx+1}/{table.shape[0]} completed.', end='')"
   ]
  },
  {
   "cell_type": "code",
   "execution_count": 21,
   "metadata": {},
   "outputs": [],
   "source": [
    "table[['중학교명', '중학교_학업성취도', '중학교_졸업자수', '중학교_최단거리']] = np.array(arr)\n",
    "data = data.merge(table, on=['도로명주소','latitude','longitude'])"
   ]
  },
  {
   "cell_type": "markdown",
   "metadata": {},
   "source": [
    "#### 초등학교 데이터 결합\n",
    "- 일단 네이버 부동산 정보에 존재하는 초등학교들과 초등학교 데이터셋의 좌표가 잘 맞는지 확인\n",
    "- 이상이 있는 초등학교들의 좌표들을 수정한 후 모든 아파트에 대해 가장 거리가 짧은 초등학교를 산출"
   ]
  },
  {
   "cell_type": "code",
   "execution_count": 22,
   "metadata": {},
   "outputs": [],
   "source": [
    "es_data = pd.read_csv('data/raw_data/2023년도_학교기본정보(초)_전체.csv')"
   ]
  },
  {
   "cell_type": "markdown",
   "metadata": {},
   "source": [
    "- 잘못된 위,경도 데이터 수정"
   ]
  },
  {
   "cell_type": "code",
   "execution_count": 23,
   "metadata": {},
   "outputs": [
    {
     "data": {
      "text/html": [
       "<div>\n",
       "<style scoped>\n",
       "    .dataframe tbody tr th:only-of-type {\n",
       "        vertical-align: middle;\n",
       "    }\n",
       "\n",
       "    .dataframe tbody tr th {\n",
       "        vertical-align: top;\n",
       "    }\n",
       "\n",
       "    .dataframe thead th {\n",
       "        text-align: right;\n",
       "    }\n",
       "</style>\n",
       "<table border=\"1\" class=\"dataframe\">\n",
       "  <thead>\n",
       "    <tr style=\"text-align: right;\">\n",
       "      <th></th>\n",
       "      <th>지역</th>\n",
       "      <th>학교명</th>\n",
       "    </tr>\n",
       "  </thead>\n",
       "  <tbody>\n",
       "    <tr>\n",
       "      <th>987</th>\n",
       "      <td>대구광역시 수성구</td>\n",
       "      <td>대구노변초등학교</td>\n",
       "    </tr>\n",
       "    <tr>\n",
       "      <th>1070</th>\n",
       "      <td>대구광역시 서구</td>\n",
       "      <td>대구비산초등학교</td>\n",
       "    </tr>\n",
       "    <tr>\n",
       "      <th>1089</th>\n",
       "      <td>대구광역시 서구</td>\n",
       "      <td>대구평리초등학교</td>\n",
       "    </tr>\n",
       "    <tr>\n",
       "      <th>1910</th>\n",
       "      <td>경기도 가평군</td>\n",
       "      <td>미원초등학교위곡분교장</td>\n",
       "    </tr>\n",
       "    <tr>\n",
       "      <th>3248</th>\n",
       "      <td>경기도 광주시</td>\n",
       "      <td>쌍동초등학교</td>\n",
       "    </tr>\n",
       "    <tr>\n",
       "      <th>3249</th>\n",
       "      <td>경기도 평택시</td>\n",
       "      <td>율포초등학교</td>\n",
       "    </tr>\n",
       "    <tr>\n",
       "      <th>3607</th>\n",
       "      <td>강원특별자치도 춘천시</td>\n",
       "      <td>성원초등학교</td>\n",
       "    </tr>\n",
       "    <tr>\n",
       "      <th>4226</th>\n",
       "      <td>충청남도 태안군</td>\n",
       "      <td>안흥초등학교</td>\n",
       "    </tr>\n",
       "    <tr>\n",
       "      <th>4310</th>\n",
       "      <td>충청남도 아산시</td>\n",
       "      <td>아산갈산초등학교</td>\n",
       "    </tr>\n",
       "    <tr>\n",
       "      <th>5804</th>\n",
       "      <td>경상남도 창원시 마산합포구</td>\n",
       "      <td>구산초등학교</td>\n",
       "    </tr>\n",
       "  </tbody>\n",
       "</table>\n",
       "</div>"
      ],
      "text/plain": [
       "                  지역          학교명\n",
       "987        대구광역시 수성구     대구노변초등학교\n",
       "1070        대구광역시 서구     대구비산초등학교\n",
       "1089        대구광역시 서구     대구평리초등학교\n",
       "1910         경기도 가평군  미원초등학교위곡분교장\n",
       "3248         경기도 광주시       쌍동초등학교\n",
       "3249         경기도 평택시       율포초등학교\n",
       "3607     강원특별자치도 춘천시       성원초등학교\n",
       "4226        충청남도 태안군       안흥초등학교\n",
       "4310        충청남도 아산시     아산갈산초등학교\n",
       "5804  경상남도 창원시 마산합포구       구산초등학교"
      ]
     },
     "execution_count": 23,
     "metadata": {},
     "output_type": "execute_result"
    }
   ],
   "source": [
    "es_data[es_data['위도'].isna()][['지역', '학교명']]"
   ]
  },
  {
   "cell_type": "code",
   "execution_count": 24,
   "metadata": {},
   "outputs": [],
   "source": [
    "idx = es_data[es_data['위도'].isna()].index\n",
    "es_data.loc[idx, ['위도','경도']] = [\n",
    "    [35.8376255,128.6975583],[35.8789898,128.5639202],\n",
    "    [35.872413,128.5608249],[37.6706524,127.5152904],\n",
    "    [37.3777078,127.2896552],[37.0424627,127.043416],\n",
    "    [37.8479864,127.7448595],[36.6955459,126.1744853],\n",
    "    [36.7937819,127.0687703],[35.1202469,128.5793284]\n",
    "]"
   ]
  },
  {
   "cell_type": "code",
   "execution_count": 25,
   "metadata": {},
   "outputs": [
    {
     "data": {
      "text/html": [
       "<div>\n",
       "<style scoped>\n",
       "    .dataframe tbody tr th:only-of-type {\n",
       "        vertical-align: middle;\n",
       "    }\n",
       "\n",
       "    .dataframe tbody tr th {\n",
       "        vertical-align: top;\n",
       "    }\n",
       "\n",
       "    .dataframe thead th {\n",
       "        text-align: right;\n",
       "    }\n",
       "</style>\n",
       "<table border=\"1\" class=\"dataframe\">\n",
       "  <thead>\n",
       "    <tr style=\"text-align: right;\">\n",
       "      <th></th>\n",
       "      <th>지역</th>\n",
       "      <th>학교명</th>\n",
       "      <th>위도</th>\n",
       "      <th>경도</th>\n",
       "    </tr>\n",
       "  </thead>\n",
       "  <tbody>\n",
       "    <tr>\n",
       "      <th>984</th>\n",
       "      <td>대구광역시 수성구</td>\n",
       "      <td>대구고산초등학교</td>\n",
       "      <td>39.200000</td>\n",
       "      <td>134.600000</td>\n",
       "    </tr>\n",
       "    <tr>\n",
       "      <th>4075</th>\n",
       "      <td>충청남도 천안시 서북구</td>\n",
       "      <td>천안미라초등학교</td>\n",
       "      <td>86.801078</td>\n",
       "      <td>127.128405</td>\n",
       "    </tr>\n",
       "    <tr>\n",
       "      <th>5444</th>\n",
       "      <td>경상북도 영양군</td>\n",
       "      <td>석보초등학교</td>\n",
       "      <td>12.907232</td>\n",
       "      <td>363.329600</td>\n",
       "    </tr>\n",
       "  </tbody>\n",
       "</table>\n",
       "</div>"
      ],
      "text/plain": [
       "                지역       학교명         위도          경도\n",
       "984      대구광역시 수성구  대구고산초등학교  39.200000  134.600000\n",
       "4075  충청남도 천안시 서북구  천안미라초등학교  86.801078  127.128405\n",
       "5444      경상북도 영양군    석보초등학교  12.907232  363.329600"
      ]
     },
     "execution_count": 25,
     "metadata": {},
     "output_type": "execute_result"
    }
   ],
   "source": [
    "es_data[(es_data['위도']>39) | (es_data['위도']<33)][['지역','학교명','위도','경도']]"
   ]
  },
  {
   "cell_type": "code",
   "execution_count": 26,
   "metadata": {},
   "outputs": [],
   "source": [
    "idx = es_data[(es_data['위도']>39) | (es_data['위도']<33)].index\n",
    "es_data.loc[idx, ['위도','경도']] = [\n",
    "    [35.8443168,128.6931978],[36.8008807,127.1284485],[36.5582246,129.1231255]\n",
    "]"
   ]
  },
  {
   "cell_type": "code",
   "execution_count": 27,
   "metadata": {},
   "outputs": [
    {
     "data": {
      "text/html": [
       "<div>\n",
       "<style scoped>\n",
       "    .dataframe tbody tr th:only-of-type {\n",
       "        vertical-align: middle;\n",
       "    }\n",
       "\n",
       "    .dataframe tbody tr th {\n",
       "        vertical-align: top;\n",
       "    }\n",
       "\n",
       "    .dataframe thead th {\n",
       "        text-align: right;\n",
       "    }\n",
       "</style>\n",
       "<table border=\"1\" class=\"dataframe\">\n",
       "  <thead>\n",
       "    <tr style=\"text-align: right;\">\n",
       "      <th></th>\n",
       "      <th>지역</th>\n",
       "      <th>학교명</th>\n",
       "      <th>위도</th>\n",
       "      <th>경도</th>\n",
       "    </tr>\n",
       "  </thead>\n",
       "  <tbody>\n",
       "    <tr>\n",
       "      <th>3104</th>\n",
       "      <td>경기도 화성시</td>\n",
       "      <td>하길초등학교</td>\n",
       "      <td>37.098516</td>\n",
       "      <td>922.319000</td>\n",
       "    </tr>\n",
       "    <tr>\n",
       "      <th>3226</th>\n",
       "      <td>경기도 하남시</td>\n",
       "      <td>신우초등학교</td>\n",
       "      <td>37.513210</td>\n",
       "      <td>112.716005</td>\n",
       "    </tr>\n",
       "  </tbody>\n",
       "</table>\n",
       "</div>"
      ],
      "text/plain": [
       "           지역     학교명         위도          경도\n",
       "3104  경기도 화성시  하길초등학교  37.098516  922.319000\n",
       "3226  경기도 하남시  신우초등학교  37.513210  112.716005"
      ]
     },
     "execution_count": 27,
     "metadata": {},
     "output_type": "execute_result"
    }
   ],
   "source": [
    "es_data[(es_data['경도']>131) | (es_data['경도']<124)][['지역','학교명','위도','경도']]"
   ]
  },
  {
   "cell_type": "code",
   "execution_count": 28,
   "metadata": {},
   "outputs": [],
   "source": [
    "idx = es_data[(es_data['경도']>131) | (es_data['경도']<124)].index\n",
    "es_data.loc[idx, ['위도','경도']] = [\n",
    "    [37.115561,126.9040217],[37.5110769,127.1611818]\n",
    "]"
   ]
  },
  {
   "cell_type": "markdown",
   "metadata": {},
   "source": [
    "- 위, 경도 데이터 결합하여 거리 계산"
   ]
  },
  {
   "cell_type": "code",
   "execution_count": 29,
   "metadata": {},
   "outputs": [],
   "source": [
    "es_data['학교도로명 주소'] = es_data['학교도로명 주소'].fillna('충청남도 당진시')\n",
    "es_data['지역'] = es_data['학교도로명 주소'].apply(lambda x: ' '.join(x.split()[:2-x.startswith('세종')]))\n",
    "es_data['학교명'] = es_data['지역'] + ' '+ es_data['학교명']\n",
    "for s in ['특별','자치','광역']: es_data['학교명'] = es_data['학교명'].str.replace(s,'')\n",
    "for c in ['서울', '광주', '대전', '울산']: \n",
    "    es_data['학교명'] = es_data['학교명'].str.replace(c+' ', c+'시 ')\n",
    "for k,v in {'경기 ':'경기도 ', '전북 ':'전라북도 ', '경남 ':'경상남도 '}.items():\n",
    "    es_data['학교명'] = es_data['학교명'].str.replace(k,v)"
   ]
  },
  {
   "cell_type": "code",
   "execution_count": 30,
   "metadata": {},
   "outputs": [],
   "source": [
    "nav_es = data[['아파트명','법정동주소','도로명주소','초등학교_학군정보','latitude','longitude']].drop_duplicates('초등학교_학군정보').dropna()\n",
    "nav_es['초등학교명'] = nav_es['도로명주소'].apply(lambda x: ' '.join(x.split()[:2-x.startswith('세종')])) + ' ' + nav_es['초등학교_학군정보']"
   ]
  },
  {
   "cell_type": "code",
   "execution_count": 31,
   "metadata": {},
   "outputs": [],
   "source": [
    "diff = [x.split()[-1] for x in (set(nav_es['초등학교명']) - set(es_data['학교명']))]\n",
    "es_data['학교명'] = es_data['학교명'].apply(lambda x: ' '.join(x.split()[::2]) if x.split()[-1] in diff else x)\n",
    "nav_es['초등학교명'] = nav_es['초등학교명'].apply(lambda x: ' '.join(x.split()[::2]) if x.split()[-1] in diff else x)"
   ]
  },
  {
   "cell_type": "code",
   "execution_count": 32,
   "metadata": {},
   "outputs": [
    {
     "data": {
      "text/plain": [
       "{'경기도 서울누원초등학교', '부산시 위봉초등학교', '부산시 좌성초등학교', '서울시 서울반포초등학교', '전라북도 군산아리울초등학교'}"
      ]
     },
     "execution_count": 32,
     "metadata": {},
     "output_type": "execute_result"
    }
   ],
   "source": [
    "diff = set(nav_es['초등학교명']) - set(es_data['학교명'])\n",
    "diff"
   ]
  },
  {
   "cell_type": "markdown",
   "metadata": {},
   "source": [
    "서울누원초등학교 -> 경기도에서 서울로 수정\n",
    "\n",
    "서울반포초등학교 -> 재건축 때문에 휴교중, 수동으로 추가\n",
    "\n",
    "나머지 -> 폐교됨"
   ]
  },
  {
   "cell_type": "code",
   "execution_count": 33,
   "metadata": {},
   "outputs": [],
   "source": [
    "nav_es['초등학교명'] = nav_es['초등학교명'].replace('경기도 서울누원초등학교', '서울시 서울누원초등학교')\n",
    "idx = es_data[es_data['학교명'].str.contains('아리울')].index\n",
    "es_data.loc[idx, '학교명'] = '전라북도 군산아리울초등학교'\n",
    "es_data = es_data[['학교명','위도', '경도','학교도로명 주소']]\n",
    "es_data.columns = ['초등학교명', '초등학교_위도', '초등학교_경도', '학교도로명_주소']\n",
    "es_data.loc[len(es_data)] = ['서울시 서초구 서울반포초등학교', 37.5027, 126.9911, '서울특별시 서초구 신반포로 55-4']"
   ]
  },
  {
   "cell_type": "code",
   "execution_count": 34,
   "metadata": {},
   "outputs": [],
   "source": [
    "nav_es = nav_es.merge(es_data, on='초등학교명', how='left').reset_index(drop=True)\n",
    "nav_es['거리'] = haversine_np(nav_es['latitude'], nav_es['longitude'], nav_es['초등학교_위도'], nav_es['초등학교_경도'])"
   ]
  },
  {
   "cell_type": "markdown",
   "metadata": {},
   "source": [
    "학교 위경도가 잘못되어 거리가 비정상적으로 잡히는 학교들이 다수 존재\n",
    "\n",
    "-> 거리 1km이상 학교들만 카카오 api 이용하여 도로명주소를 위경도로 변환하여 다시 거리 계산"
   ]
  },
  {
   "cell_type": "code",
   "execution_count": 35,
   "metadata": {},
   "outputs": [],
   "source": [
    "anomaly = pd.read_csv('data/es_data_anomaly.csv')"
   ]
  },
  {
   "cell_type": "code",
   "execution_count": 36,
   "metadata": {},
   "outputs": [
    {
     "data": {
      "text/html": [
       "<div>\n",
       "<style scoped>\n",
       "    .dataframe tbody tr th:only-of-type {\n",
       "        vertical-align: middle;\n",
       "    }\n",
       "\n",
       "    .dataframe tbody tr th {\n",
       "        vertical-align: top;\n",
       "    }\n",
       "\n",
       "    .dataframe thead th {\n",
       "        text-align: right;\n",
       "    }\n",
       "</style>\n",
       "<table border=\"1\" class=\"dataframe\">\n",
       "  <thead>\n",
       "    <tr style=\"text-align: right;\">\n",
       "      <th></th>\n",
       "      <th>Unnamed: 0</th>\n",
       "      <th>아파트명</th>\n",
       "      <th>법정동주소</th>\n",
       "      <th>도로명주소</th>\n",
       "      <th>초등학교_학군정보</th>\n",
       "      <th>latitude</th>\n",
       "      <th>longitude</th>\n",
       "      <th>초등학교명</th>\n",
       "      <th>초등학교_위도</th>\n",
       "      <th>초등학교_경도</th>\n",
       "      <th>학교도로명_주소</th>\n",
       "      <th>거리</th>\n",
       "      <th>lon</th>\n",
       "      <th>lat</th>\n",
       "      <th>초등학교_거리</th>\n",
       "    </tr>\n",
       "  </thead>\n",
       "  <tbody>\n",
       "    <tr>\n",
       "      <th>146</th>\n",
       "      <td>146</td>\n",
       "      <td>금화마을3단지주공그린빌</td>\n",
       "      <td>경기도 용인시 기흥구 상갈동 481</td>\n",
       "      <td>경기도 용인시 기흥구 금화로11번길 10</td>\n",
       "      <td>보라초등학교</td>\n",
       "      <td>37.262336</td>\n",
       "      <td>127.107341</td>\n",
       "      <td>경기도 용인시 보라초등학교</td>\n",
       "      <td>37.3</td>\n",
       "      <td>127.1</td>\n",
       "      <td>경기도 용인시 기흥구 금화로 105</td>\n",
       "      <td>4238.109048</td>\n",
       "      <td>NaN</td>\n",
       "      <td>NaN</td>\n",
       "      <td>NaN</td>\n",
       "    </tr>\n",
       "  </tbody>\n",
       "</table>\n",
       "</div>"
      ],
      "text/plain": [
       "     Unnamed: 0          아파트명                법정동주소                   도로명주소  \\\n",
       "146         146  금화마을3단지주공그린빌  경기도 용인시 기흥구 상갈동 481  경기도 용인시 기흥구 금화로11번길 10   \n",
       "\n",
       "    초등학교_학군정보   latitude   longitude           초등학교명  초등학교_위도  초등학교_경도  \\\n",
       "146    보라초등학교  37.262336  127.107341  경기도 용인시 보라초등학교     37.3    127.1   \n",
       "\n",
       "                학교도로명_주소           거리  lon  lat  초등학교_거리  \n",
       "146  경기도 용인시 기흥구 금화로 105  4238.109048  NaN  NaN      NaN  "
      ]
     },
     "execution_count": 36,
     "metadata": {},
     "output_type": "execute_result"
    }
   ],
   "source": [
    "anomaly['초등학교_거리'] = haversine_np(anomaly['latitude'], anomaly['longitude'], anomaly['lat'], anomaly['lon'])\n",
    "anomaly[anomaly['초등학교_거리'].isna()]"
   ]
  },
  {
   "cell_type": "code",
   "execution_count": 37,
   "metadata": {},
   "outputs": [],
   "source": [
    "anomaly['초등학교_거리'].fillna(haversine_np(37.262336, 127.107341, 37.2639233, 127.1072747), inplace=True)"
   ]
  },
  {
   "cell_type": "code",
   "execution_count": 38,
   "metadata": {},
   "outputs": [
    {
     "data": {
      "text/html": [
       "<div>\n",
       "<style scoped>\n",
       "    .dataframe tbody tr th:only-of-type {\n",
       "        vertical-align: middle;\n",
       "    }\n",
       "\n",
       "    .dataframe tbody tr th {\n",
       "        vertical-align: top;\n",
       "    }\n",
       "\n",
       "    .dataframe thead th {\n",
       "        text-align: right;\n",
       "    }\n",
       "</style>\n",
       "<table border=\"1\" class=\"dataframe\">\n",
       "  <thead>\n",
       "    <tr style=\"text-align: right;\">\n",
       "      <th></th>\n",
       "      <th>초등학교명</th>\n",
       "      <th>초등학교_위도</th>\n",
       "      <th>초등학교_경도</th>\n",
       "      <th>학교도로명_주소</th>\n",
       "      <th>lat</th>\n",
       "      <th>lon</th>\n",
       "    </tr>\n",
       "  </thead>\n",
       "  <tbody>\n",
       "    <tr>\n",
       "      <th>0</th>\n",
       "      <td>서울시 서초구 서울교육대학교부설초등학교</td>\n",
       "      <td>37.490739</td>\n",
       "      <td>127.015424</td>\n",
       "      <td>서울특별시 서초구 서초중앙로 96</td>\n",
       "      <td>37.490739</td>\n",
       "      <td>127.015424</td>\n",
       "    </tr>\n",
       "    <tr>\n",
       "      <th>1</th>\n",
       "      <td>서울시 종로구 서울대학교사범대학부설초등학교</td>\n",
       "      <td>37.577017</td>\n",
       "      <td>127.003091</td>\n",
       "      <td>서울특별시 종로구 대학로 64</td>\n",
       "      <td>37.577017</td>\n",
       "      <td>127.003091</td>\n",
       "    </tr>\n",
       "    <tr>\n",
       "      <th>2</th>\n",
       "      <td>서울시 강남구 서울개일초등학교</td>\n",
       "      <td>37.486214</td>\n",
       "      <td>127.057742</td>\n",
       "      <td>서울특별시 강남구 개포로 401</td>\n",
       "      <td>37.486214</td>\n",
       "      <td>127.057742</td>\n",
       "    </tr>\n",
       "    <tr>\n",
       "      <th>3</th>\n",
       "      <td>서울시 강남구 서울개포초등학교</td>\n",
       "      <td>37.486805</td>\n",
       "      <td>127.069977</td>\n",
       "      <td>서울특별시 강남구 삼성로4길 30</td>\n",
       "      <td>37.486805</td>\n",
       "      <td>127.069977</td>\n",
       "    </tr>\n",
       "    <tr>\n",
       "      <th>4</th>\n",
       "      <td>서울시 강남구 서울구룡초등학교</td>\n",
       "      <td>37.481193</td>\n",
       "      <td>127.051755</td>\n",
       "      <td>서울특별시 강남구 개포로 263</td>\n",
       "      <td>37.481193</td>\n",
       "      <td>127.051755</td>\n",
       "    </tr>\n",
       "    <tr>\n",
       "      <th>...</th>\n",
       "      <td>...</td>\n",
       "      <td>...</td>\n",
       "      <td>...</td>\n",
       "      <td>...</td>\n",
       "      <td>...</td>\n",
       "      <td>...</td>\n",
       "    </tr>\n",
       "    <tr>\n",
       "      <th>6315</th>\n",
       "      <td>제주도 제주시 이도초등학교</td>\n",
       "      <td>33.488121</td>\n",
       "      <td>126.531991</td>\n",
       "      <td>제주특별자치도 제주시 구남동2길 58</td>\n",
       "      <td>33.488121</td>\n",
       "      <td>126.531991</td>\n",
       "    </tr>\n",
       "    <tr>\n",
       "      <th>6316</th>\n",
       "      <td>제주도 제주시 도련초등학교</td>\n",
       "      <td>33.514019</td>\n",
       "      <td>126.584301</td>\n",
       "      <td>제주특별자치도 제주시 화삼로 104</td>\n",
       "      <td>33.514019</td>\n",
       "      <td>126.584301</td>\n",
       "    </tr>\n",
       "    <tr>\n",
       "      <th>6317</th>\n",
       "      <td>제주도 제주시 삼화초등학교</td>\n",
       "      <td>33.515224</td>\n",
       "      <td>126.577005</td>\n",
       "      <td>제주특별자치도 제주시 화삼북로2길 27</td>\n",
       "      <td>33.515224</td>\n",
       "      <td>126.577005</td>\n",
       "    </tr>\n",
       "    <tr>\n",
       "      <th>6318</th>\n",
       "      <td>제주도 제주시 하귀일초등학교</td>\n",
       "      <td>33.483420</td>\n",
       "      <td>126.415364</td>\n",
       "      <td>제주특별자치도 제주시 애월읍 하귀9길 42</td>\n",
       "      <td>33.483420</td>\n",
       "      <td>126.415364</td>\n",
       "    </tr>\n",
       "    <tr>\n",
       "      <th>6319</th>\n",
       "      <td>서울시 서초구 서울반포초등학교</td>\n",
       "      <td>37.502700</td>\n",
       "      <td>126.991100</td>\n",
       "      <td>서울특별시 서초구 신반포로 55-4</td>\n",
       "      <td>37.502700</td>\n",
       "      <td>126.991100</td>\n",
       "    </tr>\n",
       "  </tbody>\n",
       "</table>\n",
       "<p>6320 rows × 6 columns</p>\n",
       "</div>"
      ],
      "text/plain": [
       "                        초등학교명    초등학교_위도     초등학교_경도                 학교도로명_주소  \\\n",
       "0       서울시 서초구 서울교육대학교부설초등학교  37.490739  127.015424       서울특별시 서초구 서초중앙로 96   \n",
       "1     서울시 종로구 서울대학교사범대학부설초등학교  37.577017  127.003091         서울특별시 종로구 대학로 64   \n",
       "2            서울시 강남구 서울개일초등학교  37.486214  127.057742        서울특별시 강남구 개포로 401   \n",
       "3            서울시 강남구 서울개포초등학교  37.486805  127.069977       서울특별시 강남구 삼성로4길 30   \n",
       "4            서울시 강남구 서울구룡초등학교  37.481193  127.051755        서울특별시 강남구 개포로 263   \n",
       "...                       ...        ...         ...                      ...   \n",
       "6315           제주도 제주시 이도초등학교  33.488121  126.531991     제주특별자치도 제주시 구남동2길 58   \n",
       "6316           제주도 제주시 도련초등학교  33.514019  126.584301      제주특별자치도 제주시 화삼로 104   \n",
       "6317           제주도 제주시 삼화초등학교  33.515224  126.577005    제주특별자치도 제주시 화삼북로2길 27   \n",
       "6318          제주도 제주시 하귀일초등학교  33.483420  126.415364  제주특별자치도 제주시 애월읍 하귀9길 42   \n",
       "6319         서울시 서초구 서울반포초등학교  37.502700  126.991100      서울특별시 서초구 신반포로 55-4   \n",
       "\n",
       "            lat         lon  \n",
       "0     37.490739  127.015424  \n",
       "1     37.577017  127.003091  \n",
       "2     37.486214  127.057742  \n",
       "3     37.486805  127.069977  \n",
       "4     37.481193  127.051755  \n",
       "...         ...         ...  \n",
       "6315  33.488121  126.531991  \n",
       "6316  33.514019  126.584301  \n",
       "6317  33.515224  126.577005  \n",
       "6318  33.483420  126.415364  \n",
       "6319  37.502700  126.991100  \n",
       "\n",
       "[6320 rows x 6 columns]"
      ]
     },
     "execution_count": 38,
     "metadata": {},
     "output_type": "execute_result"
    }
   ],
   "source": [
    "anomaly = anomaly[['lat','lon','학교도로명_주소']]\n",
    "es_data = es_data.merge(anomaly, on='학교도로명_주소', how='left')\n",
    "es_data['lat'].fillna(es_data['초등학교_위도'], inplace=True)\n",
    "es_data['lon'].fillna(es_data['초등학교_경도'], inplace=True)\n",
    "es_data\n",
    "#es_data = es_data[['초등학교명, 학교도로명_주소', 'lat', 'lon']]"
   ]
  },
  {
   "cell_type": "code",
   "execution_count": 39,
   "metadata": {},
   "outputs": [
    {
     "data": {
      "text/plain": [
       "초등학교명       0\n",
       "초등학교_위도     0\n",
       "초등학교_경도     0\n",
       "학교도로명_주소    0\n",
       "lat         0\n",
       "lon         0\n",
       "dtype: int64"
      ]
     },
     "execution_count": 39,
     "metadata": {},
     "output_type": "execute_result"
    }
   ],
   "source": [
    "es_data.isna().sum()"
   ]
  },
  {
   "cell_type": "code",
   "execution_count": 40,
   "metadata": {},
   "outputs": [
    {
     "name": "stdout",
     "output_type": "stream",
     "text": [
      "194/19671 completed."
     ]
    },
    {
     "name": "stdout",
     "output_type": "stream",
     "text": [
      "19671/19671 completed."
     ]
    }
   ],
   "source": [
    "table = data[['도로명주소', 'latitude', 'longitude']].drop_duplicates().reset_index(drop=True)\n",
    "arr = []\n",
    "for idx, row in table.iterrows():\n",
    "    lat1, lon1 = row['latitude'], row['longitude']\n",
    "    dist = haversine_np(lat1, lon1, es_data['lat'], es_data['lon'])\n",
    "    arr += [es_data.iloc[dist.argmin(),[0,3]].to_list()+[min(dist)]]\n",
    "    print(f'\\r{idx+1}/{table.shape[0]} completed.', end='')"
   ]
  },
  {
   "cell_type": "code",
   "execution_count": 41,
   "metadata": {},
   "outputs": [],
   "source": [
    "table[['초등학교명', '초등학교_도로명주소', '초등학교_최단거리']] = np.array(arr)\n",
    "table['초등학교_최단거리'] = table['초등학교_최단거리'].astype(float)\n",
    "for i in range(4): table[f'temp_{i}'] = table['초등학교_최단거리'] >= [200, 500, 1000, 2000][i]\n",
    "table['초등학교_최단거리구간'] = table[[f'temp_{i}' for i in range(4)]].sum(axis=1)\n",
    "table.drop([f'temp_{i}' for i in range(4)], axis=1, inplace=True)\n",
    "data = data.merge(table, on=['도로명주소','latitude','longitude'], how='left')"
   ]
  },
  {
   "cell_type": "code",
   "execution_count": 42,
   "metadata": {},
   "outputs": [
    {
     "data": {
      "text/plain": [
       "(39811, 37)"
      ]
     },
     "execution_count": 42,
     "metadata": {},
     "output_type": "execute_result"
    }
   ],
   "source": [
    "data.shape"
   ]
  },
  {
   "cell_type": "markdown",
   "metadata": {},
   "source": [
    "#### 스타벅스 매장"
   ]
  },
  {
   "cell_type": "markdown",
   "metadata": {},
   "source": [
    "- 도보거리 (500m) 이내에 있는 스타벅스 매장의 개수"
   ]
  },
  {
   "cell_type": "code",
   "execution_count": 43,
   "metadata": {},
   "outputs": [],
   "source": [
    "sb_data = pd.read_csv('data/starbucks_231211.csv', encoding='cp949')"
   ]
  },
  {
   "cell_type": "code",
   "execution_count": 44,
   "metadata": {},
   "outputs": [],
   "source": [
    "sb_data = sb_data[['s_name', 'lat','lot']]"
   ]
  },
  {
   "cell_type": "code",
   "execution_count": 45,
   "metadata": {},
   "outputs": [
    {
     "name": "stdout",
     "output_type": "stream",
     "text": [
      "19671/19671 completed."
     ]
    }
   ],
   "source": [
    "table = data[['도로명주소', 'latitude', 'longitude']].drop_duplicates().reset_index(drop=True)\n",
    "arr = []\n",
    "for idx, row in table.iterrows():\n",
    "    lat1, lon1 = row['latitude'], row['longitude']\n",
    "    dist = haversine_np(lat1, lon1, sb_data['lat'], sb_data['lot'])\n",
    "    j = dist[dist<=500].index\n",
    "    arr += [len(j), ', '.join(sorted(sb_data.loc[j,'s_name'].unique()))]\n",
    "    print(f'\\r{idx+1}/{table.shape[0]} completed.', end='')"
   ]
  },
  {
   "cell_type": "code",
   "execution_count": 46,
   "metadata": {},
   "outputs": [],
   "source": [
    "table[['스타벅스_매장수', '스타벅스_매장이름']] = np.array(arr).reshape(-1,2)\n",
    "data = data.merge(table, on=['도로명주소','latitude','longitude'], how='left')"
   ]
  },
  {
   "cell_type": "markdown",
   "metadata": {},
   "source": [
    "### 쇼핑몰, 대형마트"
   ]
  },
  {
   "cell_type": "markdown",
   "metadata": {},
   "source": [
    "- 백화점 및 쇼핑몰: 5km 이내 존재 여부\n",
    "- 대형마트: 500m / 3km 이내 존재 여부"
   ]
  },
  {
   "cell_type": "code",
   "execution_count": 49,
   "metadata": {},
   "outputs": [],
   "source": [
    "dm_data = pd.read_csv('data/쇼핑몰_마트_최종.csv', encoding='cp949')"
   ]
  },
  {
   "cell_type": "code",
   "execution_count": 50,
   "metadata": {},
   "outputs": [],
   "source": [
    "d_data, m_data = dm_data[dm_data['업태구분명']!='대형마트'].reset_index(drop=True), dm_data[dm_data['업태구분명']=='대형마트'].reset_index(drop=True)"
   ]
  },
  {
   "cell_type": "code",
   "execution_count": 51,
   "metadata": {},
   "outputs": [
    {
     "name": "stdout",
     "output_type": "stream",
     "text": [
      "19671/19671 completed."
     ]
    }
   ],
   "source": [
    "table = data[['도로명주소', 'latitude', 'longitude']].drop_duplicates().reset_index(drop=True)\n",
    "arr = []\n",
    "for idx, row in table.iterrows():\n",
    "    lat1, lon1 = row['latitude'], row['longitude']\n",
    "    dist = haversine_np(lat1, lon1, d_data['lat'], d_data['lon'])\n",
    "    tmp = [0]\n",
    "    j = dist[dist<=5000].index\n",
    "    tmp[0] = (len(j)>0)+0\n",
    "    tmp += [d_data.loc[dist.argmin(),'사업장명'], dist.min()]\n",
    "    arr += tmp\n",
    "    print(f'\\r{idx+1}/{table.shape[0]} completed.', end='')"
   ]
  },
  {
   "cell_type": "code",
   "execution_count": 52,
   "metadata": {},
   "outputs": [],
   "source": [
    "table[['백화점쇼핑몰_유무', '백화점쇼핑몰_매장이름', '백화점쇼핑몰_최단거리']] = np.array(arr).reshape(-1,3)\n",
    "table['백화점쇼핑몰_유무'] = table['백화점쇼핑몰_유무'].astype(int)\n",
    "table['백화점쇼핑몰_최단거리'] = table['백화점쇼핑몰_최단거리'].astype(float)\n",
    "data = data.merge(table, on=['도로명주소','latitude','longitude'], how='left')"
   ]
  },
  {
   "cell_type": "code",
   "execution_count": 53,
   "metadata": {},
   "outputs": [
    {
     "name": "stdout",
     "output_type": "stream",
     "text": [
      "19671/19671 completed."
     ]
    }
   ],
   "source": [
    "table = data[['도로명주소', 'latitude', 'longitude']].drop_duplicates().reset_index(drop=True)\n",
    "arr = []\n",
    "for idx, row in table.iterrows():\n",
    "    lat1, lon1 = row['latitude'], row['longitude']\n",
    "    dist = haversine_np(lat1, lon1, m_data['lat'], m_data['lon'])\n",
    "    tmp = [0]\n",
    "    for i in range(2):\n",
    "        j = dist[dist<=[500,3000][i]].index\n",
    "        tmp[0] += len(j)>0\n",
    "    tmp += [m_data.loc[dist.argmin(),'사업장명'], dist.min()]\n",
    "    arr += tmp\n",
    "    print(f'\\r{idx+1}/{table.shape[0]} completed.', end='')"
   ]
  },
  {
   "cell_type": "code",
   "execution_count": 54,
   "metadata": {},
   "outputs": [],
   "source": [
    "table[['마트_유무', '마트_매장이름', '마트_최단거리']] = np.array(arr).reshape(-1,3)\n",
    "table['마트_유무'] = table['마트_유무'].astype(int)\n",
    "table['마트_최단거리'] = table['마트_최단거리'].astype(float)\n",
    "data = data.merge(table, on=['도로명주소','latitude','longitude'], how='left')"
   ]
  },
  {
   "cell_type": "markdown",
   "metadata": {},
   "source": [
    "#### 중심업무지구, 산업단지"
   ]
  },
  {
   "cell_type": "markdown",
   "metadata": {},
   "source": [
    "- 기준: 2km / 6km "
   ]
  },
  {
   "cell_type": "code",
   "execution_count": 55,
   "metadata": {},
   "outputs": [],
   "source": [
    "bd_data = pd.concat([pd.read_csv('data/중심업무지구.csv'), pd.read_csv('data/산업단지.csv', encoding='cp949')]).reset_index(drop=True)"
   ]
  },
  {
   "cell_type": "code",
   "execution_count": 56,
   "metadata": {},
   "outputs": [
    {
     "name": "stdout",
     "output_type": "stream",
     "text": [
      "19671/19671 completed."
     ]
    }
   ],
   "source": [
    "table = data[['도로명주소', 'latitude', 'longitude']].drop_duplicates().reset_index(drop=True)\n",
    "arr = []\n",
    "for idx, row in table.iterrows():\n",
    "    lat1, lon1 = row['latitude'], row['longitude']\n",
    "    dist = haversine_np(lat1, lon1, bd_data['위도'], bd_data['경도'])\n",
    "    tmp = [0]\n",
    "    for i in range(2):\n",
    "        j = dist[dist<=[2000,6000][i]].index\n",
    "        tmp[0] += len(j)>0\n",
    "    tmp += [bd_data.loc[dist.argmin(),'이름'], dist.min()]\n",
    "    arr += tmp\n",
    "    print(f'\\r{idx+1}/{table.shape[0]} completed.', end='')"
   ]
  },
  {
   "cell_type": "code",
   "execution_count": 57,
   "metadata": {},
   "outputs": [],
   "source": [
    "table[['직주_근접도', '직주_이름', '직주_최단거리']] = np.array(arr).reshape(-1,3)\n",
    "table['직주_근접도'] = table['직주_근접도'].astype(int)\n",
    "table['직주_최단거리'] = table['직주_최단거리'].astype(float)\n",
    "data = data.merge(table, on=['도로명주소','latitude','longitude'], how='left')"
   ]
  },
  {
   "cell_type": "markdown",
   "metadata": {},
   "source": [
    "#### 학원가"
   ]
  },
  {
   "cell_type": "code",
   "execution_count": 61,
   "metadata": {},
   "outputs": [],
   "source": [
    "ac_data = pd.read_csv('data/academy.csv', usecols=[1,3,4,5]).dropna().reset_index(drop=True)\n",
    "ac_data.columns = ['학원가', '도로명주소', 'lon', 'lat']"
   ]
  },
  {
   "cell_type": "code",
   "execution_count": 62,
   "metadata": {},
   "outputs": [
    {
     "name": "stdout",
     "output_type": "stream",
     "text": [
      "19671/19671 completed."
     ]
    }
   ],
   "source": [
    "table = data[['도로명주소', 'latitude', 'longitude']].drop_duplicates().reset_index(drop=True)\n",
    "arr = []\n",
    "for idx, row in table.iterrows():\n",
    "    lat1, lon1 = row['latitude'], row['longitude']\n",
    "    dist = haversine_np(lat1, lon1, ac_data['lat'], ac_data['lon'])\n",
    "    tmp = [0]\n",
    "    for i in range(2):\n",
    "        j = dist[dist<=[1000,3000][i]].index\n",
    "        tmp[0] += len(j)>0\n",
    "    tmp += [ac_data.loc[dist.argmin(),'학원가'], dist.min()]\n",
    "    arr += tmp\n",
    "    print(f'\\r{idx+1}/{table.shape[0]} completed.', end='')"
   ]
  },
  {
   "cell_type": "code",
   "execution_count": 63,
   "metadata": {},
   "outputs": [],
   "source": [
    "cols = ['학원가_근접도', '최근접학원가', '학원가_최단거리']\n",
    "table[cols] = np.array(arr).reshape(-1,3)\n",
    "data = data.merge(table, on=['도로명주소','latitude','longitude'])"
   ]
  },
  {
   "cell_type": "code",
   "execution_count": 64,
   "metadata": {},
   "outputs": [],
   "source": [
    "data.to_csv('data/apt_info_data.csv', encoding='cp949', index=False)"
   ]
  }
 ],
 "metadata": {
  "kernelspec": {
   "display_name": "Python 3",
   "language": "python",
   "name": "python3"
  },
  "language_info": {
   "codemirror_mode": {
    "name": "ipython",
    "version": 3
   },
   "file_extension": ".py",
   "mimetype": "text/x-python",
   "name": "python",
   "nbconvert_exporter": "python",
   "pygments_lexer": "ipython3",
   "version": "3.10.11"
  }
 },
 "nbformat": 4,
 "nbformat_minor": 2
}
