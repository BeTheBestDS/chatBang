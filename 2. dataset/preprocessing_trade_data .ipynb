{
 "cells": [
  {
   "cell_type": "code",
   "execution_count": 1,
   "metadata": {},
   "outputs": [],
   "source": [
    "import pandas as pd\n",
    "import numpy as np\n",
    "import warnings\n",
    "\n",
    "warnings.filterwarnings(\"ignore\")"
   ]
  },
  {
   "cell_type": "markdown",
   "metadata": {},
   "source": [
    "### 부동산 매매 실거래 데이터"
   ]
  },
  {
   "cell_type": "markdown",
   "metadata": {},
   "source": [
    "#### 결측치 처리를 위해 1년전 데이터와 결합"
   ]
  },
  {
   "cell_type": "code",
   "execution_count": 2,
   "metadata": {},
   "outputs": [],
   "source": [
    "data = pd.read_csv('data/raw_data/apt_trade_data_raw.csv', encoding='cp949')\n",
    "prev = pd.read_csv('data/raw_data/apt_trade_data_201607_201706.csv', encoding='cp949').iloc[:,2:]\n",
    "data = pd.concat([data,prev])"
   ]
  },
  {
   "cell_type": "markdown",
   "metadata": {},
   "source": [
    "#### 해제 거래 및 전용면적 40㎡ 미만 거래 데이터에서 삭제"
   ]
  },
  {
   "cell_type": "code",
   "execution_count": 3,
   "metadata": {},
   "outputs": [],
   "source": [
    "data = data[data['해제여부'].isna() & (data['전용면적']>=40)]"
   ]
  },
  {
   "cell_type": "markdown",
   "metadata": {},
   "source": [
    "#### 도로명 주소 및 법정동 주소 컬럼 생성"
   ]
  },
  {
   "cell_type": "markdown",
   "metadata": {},
   "source": [
    "- 도로명이 결측치일 시 도로명코드를 참조하여 도로명 생성"
   ]
  },
  {
   "cell_type": "code",
   "execution_count": 4,
   "metadata": {},
   "outputs": [
    {
     "name": "stdout",
     "output_type": "stream",
     "text": [
      "28023 949\n"
     ]
    }
   ],
   "source": [
    "print(data['도로명'].isna().sum(), data['도로명코드'].isna().sum())"
   ]
  },
  {
   "cell_type": "code",
   "execution_count": 5,
   "metadata": {},
   "outputs": [],
   "source": [
    "code = pd.read_csv('data/raw_data/도로명코드_전체.txt', encoding='cp949', sep='\\t')\n",
    "code = code[code['폐지구분']==0]\n",
    "code = dict(zip(code['도로명코드'], code['도로명']))\n",
    "data['도로명'] = data['도로명코드'].apply(lambda x: code.get(int(x)) if x==x else x)"
   ]
  },
  {
   "cell_type": "markdown",
   "metadata": {},
   "source": [
    "- 법정동코드를 시군구로 변환"
   ]
  },
  {
   "cell_type": "code",
   "execution_count": 6,
   "metadata": {},
   "outputs": [],
   "source": [
    "code = pd.read_csv('data/raw_data/법정동코드 전체자료.txt', encoding='cp949', sep='\\t')\n",
    "code = code[code['폐지여부']=='존재']\n",
    "code['법정동코드'] = code['법정동코드'].apply(lambda x: str(x)[:5]).astype(int)\n",
    "code = code[code['법정동코드'] % 1000 > 0]\n",
    "code['법정동명'] = code['법정동명'].apply(lambda x: ' '.join(x.split()[:3]))\n",
    "for s in ['특별', '자치', '직할', '광역']: code['법정동명'] = code['법정동명'].str.replace(s, '')\n",
    "code = code.drop_duplicates('법정동코드').iloc[:,:-1]"
   ]
  },
  {
   "cell_type": "code",
   "execution_count": 7,
   "metadata": {},
   "outputs": [
    {
     "name": "stdout",
     "output_type": "stream",
     "text": [
      "0\n"
     ]
    }
   ],
   "source": [
    "print(data[~data['지역코드'].isin(code['법정동코드'])].shape[0])"
   ]
  },
  {
   "cell_type": "markdown",
   "metadata": {},
   "source": [
    "- 시군구를 다른 열과 조합하여 도로명 주소 및 법정동 주소 생성"
   ]
  },
  {
   "cell_type": "code",
   "execution_count": 8,
   "metadata": {},
   "outputs": [
    {
     "data": {
      "text/html": [
       "<div>\n",
       "<style scoped>\n",
       "    .dataframe tbody tr th:only-of-type {\n",
       "        vertical-align: middle;\n",
       "    }\n",
       "\n",
       "    .dataframe tbody tr th {\n",
       "        vertical-align: top;\n",
       "    }\n",
       "\n",
       "    .dataframe thead th {\n",
       "        text-align: right;\n",
       "    }\n",
       "</style>\n",
       "<table border=\"1\" class=\"dataframe\">\n",
       "  <thead>\n",
       "    <tr style=\"text-align: right;\">\n",
       "      <th></th>\n",
       "      <th>지역코드</th>\n",
       "      <th>아파트</th>\n",
       "    </tr>\n",
       "  </thead>\n",
       "  <tbody>\n",
       "    <tr>\n",
       "      <th>104461</th>\n",
       "      <td>11650</td>\n",
       "      <td>힐스테이트 서초 젠트리스</td>\n",
       "    </tr>\n",
       "  </tbody>\n",
       "</table>\n",
       "</div>"
      ],
      "text/plain": [
       "         지역코드            아파트\n",
       "104461  11650  힐스테이트 서초 젠트리스"
      ]
     },
     "execution_count": 8,
     "metadata": {},
     "output_type": "execute_result"
    }
   ],
   "source": [
    "data[data['지번'].isna()][['지역코드','아파트']].drop_duplicates()"
   ]
  },
  {
   "cell_type": "code",
   "execution_count": 9,
   "metadata": {},
   "outputs": [],
   "source": [
    "data['지번'].fillna('557', inplace=True)"
   ]
  },
  {
   "cell_type": "code",
   "execution_count": 10,
   "metadata": {},
   "outputs": [],
   "source": [
    "code = dict(zip(code['법정동코드'], code['법정동명']))\n",
    "\n",
    "data['도로명주소'] = data['지역코드'].apply(lambda x: code[x]) + \\\n",
    "    data['도로명'].apply(lambda x: ' ' +x if x==x and x else '') + \\\n",
    "    data['도로명건물본번호코드'].apply(lambda x: ' '+str(int(x)) if x==x else '') + \\\n",
    "    data['도로명건물부번호코드'].apply(lambda x: '-'+str(int(x)) if x==x and x else '')\n",
    "\n",
    "data['법정동주소'] = data['지역코드'].apply(lambda x: code[x]) + \\\n",
    "    data['법정동'].apply(lambda x: ' ' + x if x==x else '') + \\\n",
    "    data['지번'].apply(lambda x: ' '+x if x==x else '')"
   ]
  },
  {
   "cell_type": "markdown",
   "metadata": {},
   "source": [
    "#### 가격 정수형으로 수정\n",
    "\n",
    "- 가격 사이에 ,가 들어가 있는 행이 존재 -> 제거"
   ]
  },
  {
   "cell_type": "code",
   "execution_count": 11,
   "metadata": {},
   "outputs": [],
   "source": [
    "data['거래금액'] = data['거래금액'].apply(lambda x: str(x).replace(',','')).astype(int)"
   ]
  },
  {
   "cell_type": "markdown",
   "metadata": {},
   "source": [
    "#### 전용면적 구간화\n",
    "- 60 미만, 75 미만, 85 미만, 103 미만, 103 이상으로 분류"
   ]
  },
  {
   "cell_type": "code",
   "execution_count": 12,
   "metadata": {},
   "outputs": [],
   "source": [
    "for i in range(4): data[f'temp_{i}'] = data['전용면적'] >= [60, 75, 85, 103][i]\n",
    "data['전용면적구간'] = data[[f'temp_{i}' for i in range(4)]].sum(axis=1)\n",
    "data.drop([f'temp_{i}' for i in range(4)], axis=1, inplace=True)"
   ]
  },
  {
   "cell_type": "markdown",
   "metadata": {},
   "source": [
    "#### 분기 컬럼 생성"
   ]
  },
  {
   "cell_type": "code",
   "execution_count": 13,
   "metadata": {},
   "outputs": [],
   "source": [
    "data['분기'] = data['년'].astype(str) + ' ' + ((data['월']-1) // 3 + 1).astype(str) + 'Q'"
   ]
  },
  {
   "cell_type": "markdown",
   "metadata": {},
   "source": [
    "#### 잘못된 행 수정"
   ]
  },
  {
   "cell_type": "code",
   "execution_count": 14,
   "metadata": {},
   "outputs": [],
   "source": [
    "data = data.reset_index(drop=True)"
   ]
  },
  {
   "cell_type": "markdown",
   "metadata": {},
   "source": [
    "- 건축년도 결측치: 수작업으로 채우기"
   ]
  },
  {
   "cell_type": "code",
   "execution_count": 15,
   "metadata": {},
   "outputs": [],
   "source": [
    "data['건축년도'].fillna(2021, inplace=True)"
   ]
  },
  {
   "cell_type": "markdown",
   "metadata": {},
   "source": [
    "- (아파트, 도로명주소, 법정동주소, 건축년도)가 고유한지 체크\n",
    "- 도로명 결측치일 시 법정동 주소 활용\n",
    "- 동일한 도로명 주소에 건축년도가 20년이상 차이날 시 오래된 아파트는 삭제\n",
    "- 나머지는 같은 아파트단지로 간주, 건축년도는 산술평균 사용 (거래량 반영)"
   ]
  },
  {
   "cell_type": "code",
   "execution_count": 16,
   "metadata": {},
   "outputs": [],
   "source": [
    "data_addr = data.drop_duplicates(['아파트','도로명주소','법정동주소','건축년도']).reset_index(drop=True)"
   ]
  },
  {
   "cell_type": "code",
   "execution_count": 17,
   "metadata": {},
   "outputs": [],
   "source": [
    "addr = data_addr['도로명주소'].value_counts()[data_addr['도로명주소'].value_counts()>1].index\n",
    "data_addr2 = data_addr[data_addr['도로명주소'].isin(addr) & ~data_addr['도로명'].isna()][['아파트','도로명','도로명주소','법정동주소','건축년도']]\n",
    "table = data_addr2.groupby('도로명주소')['건축년도'].agg(['count','max','min']).reset_index()\n",
    "table['diff'] = table['max']-table['min']\n",
    "addr_del = table[table['diff']>=20]['도로명주소']\n",
    "to_del = data[data['도로명주소'].isin(addr_del) & (data['건축년도']<2000)].index\n",
    "data = data.drop(to_del).reset_index(drop=True)"
   ]
  },
  {
   "cell_type": "code",
   "execution_count": 18,
   "metadata": {},
   "outputs": [],
   "source": [
    "addr = data_addr['도로명주소'].value_counts()[data_addr['도로명주소'].value_counts()>1].index\n",
    "data_addr2 = data_addr[data_addr['도로명주소'].isin(addr) & ~data_addr['도로명'].isna()][['아파트','도로명','도로명주소','법정동주소','건축년도']]\n",
    "table = data_addr2.groupby('도로명주소')['건축년도'].agg(['count','max','min']).reset_index()\n",
    "table['diff'] = table['max']-table['min']\n",
    "addr_del = table[table['diff']>=20]['도로명주소']\n",
    "to_del = data[data['도로명주소'].isin(addr_del) & (data['건축년도']<2000)].index\n",
    "data = data.drop(to_del).reset_index(drop=True)\n",
    "table2 = data[data['도로명주소'].isin(table[(table['diff']>0)&(table['diff']<20)]['도로명주소']) & ~data['도로명'].isna()].groupby(['도로명주소'])['건축년도'].agg('mean').reset_index()\n",
    "table2['건축년도'] = table2['건축년도'].apply(np.round)\n",
    "data = data.merge(table2,on='도로명주소',how='left')\n",
    "data['건축년도_y'] = data['건축년도_y'].fillna(data['건축년도_x'])\n",
    "data = data.drop('건축년도_x', axis=1).rename({'건축년도_y':'건축년도'},axis=1)"
   ]
  },
  {
   "cell_type": "markdown",
   "metadata": {},
   "source": [
    "- 법정동 주소가 동일한 아파트도 동일한 방식으로 처리"
   ]
  },
  {
   "cell_type": "code",
   "execution_count": 19,
   "metadata": {},
   "outputs": [],
   "source": [
    "addr = data_addr['법정동주소'].value_counts()[data_addr['법정동주소'].value_counts()>1].index\n",
    "data_addr2 = data_addr[data_addr['법정동주소'].isin(addr)][['아파트','도로명주소','법정동주소','건축년도']]\n",
    "table = data_addr2.groupby('법정동주소')['건축년도'].agg(['count','max','min']).reset_index()\n",
    "table['diff'] = table['max']-table['min']\n",
    "addr_del = table[table['diff']>=20]['법정동주소']\n",
    "to_del = data[data['법정동주소'].isin(addr_del) & (data['건축년도']<2000)].index\n",
    "data = data.drop(to_del).reset_index(drop=True)\n",
    "table2 = data[data['법정동주소'].isin(table[(table['diff']>0)&(table['diff']<20)]['법정동주소'])].groupby(['법정동주소'])['건축년도'].agg('mean').reset_index()\n",
    "table2['건축년도'] = table2['건축년도'].apply(np.round)\n",
    "data = data.merge(table2,on='법정동주소',how='left')\n",
    "data['건축년도_y'] = data['건축년도_y'].fillna(data['건축년도_x'])\n",
    "data = data.drop('건축년도_x', axis=1).rename({'건축년도_y':'건축년도'},axis=1)"
   ]
  },
  {
   "cell_type": "markdown",
   "metadata": {},
   "source": [
    "#### 필요한 컬럼만 남기고 나머지 삭제"
   ]
  },
  {
   "cell_type": "code",
   "execution_count": 20,
   "metadata": {},
   "outputs": [],
   "source": [
    "data = data[['도로명', '도로명주소', '법정동주소', '건축년도', '전용면적', '거래금액', '전용면적구간', '분기']]"
   ]
  },
  {
   "cell_type": "markdown",
   "metadata": {},
   "source": [
    "#### 그룹화\n",
    "\n",
    "- (도로명주소, 면적구간, 분기)로 그룹화\n",
    "- 도로명이 결측치일 시 법정동 주소를 사용"
   ]
  },
  {
   "cell_type": "code",
   "execution_count": 21,
   "metadata": {},
   "outputs": [],
   "source": [
    "idx = data[data['도로명'].isna()].index\n",
    "data.loc[idx,'도로명주소']=data.loc[idx,'법정동주소']\n",
    "data.drop(['도로명','법정동주소'], axis=1, inplace=True)"
   ]
  },
  {
   "cell_type": "code",
   "execution_count": 22,
   "metadata": {},
   "outputs": [
    {
     "data": {
      "text/html": [
       "<div>\n",
       "<style scoped>\n",
       "    .dataframe tbody tr th:only-of-type {\n",
       "        vertical-align: middle;\n",
       "    }\n",
       "\n",
       "    .dataframe tbody tr th {\n",
       "        vertical-align: top;\n",
       "    }\n",
       "\n",
       "    .dataframe thead th {\n",
       "        text-align: right;\n",
       "    }\n",
       "</style>\n",
       "<table border=\"1\" class=\"dataframe\">\n",
       "  <thead>\n",
       "    <tr style=\"text-align: right;\">\n",
       "      <th></th>\n",
       "      <th>도로명주소</th>\n",
       "      <th>건축년도</th>\n",
       "    </tr>\n",
       "  </thead>\n",
       "  <tbody>\n",
       "    <tr>\n",
       "      <th>10035</th>\n",
       "      <td>경상남도 밀양시 중앙로 238-8</td>\n",
       "      <td>1.414214</td>\n",
       "    </tr>\n",
       "  </tbody>\n",
       "</table>\n",
       "</div>"
      ],
      "text/plain": [
       "                    도로명주소      건축년도\n",
       "10035  경상남도 밀양시 중앙로 238-8  1.414214"
      ]
     },
     "execution_count": 22,
     "metadata": {},
     "output_type": "execute_result"
    }
   ],
   "source": [
    "tmp = data[['도로명주소','건축년도']].drop_duplicates().groupby('도로명주소').agg('std').reset_index()\n",
    "tmp[tmp['건축년도']>0]"
   ]
  },
  {
   "cell_type": "code",
   "execution_count": 23,
   "metadata": {},
   "outputs": [],
   "source": [
    "y=data[data['도로명주소']=='경상남도 밀양시 중앙로 238-8']['건축년도'].mean().round()\n",
    "idx = data[data['도로명주소']=='경상남도 밀양시 중앙로 238-8'].index\n",
    "data.loc[idx,'건축년도'] = y"
   ]
  },
  {
   "cell_type": "code",
   "execution_count": 24,
   "metadata": {},
   "outputs": [],
   "source": [
    "data = data.groupby(['도로명주소','전용면적구간','분기']).agg(['sum','count']).reset_index()\n",
    "data.columns = ['도로명주소', '전용면적구간', '분기', '건축년도', '', '전용면적합', '', '거래금액합', '거래량']\n",
    "data = data[[i for i in data.columns if i]]\n",
    "data['건축년도'] = data['건축년도'] // data['거래량'] \n",
    "data['단위면적당거래금액'] = data['거래금액합'] / data['전용면적합']\n",
    "data['평균거래금액'] = data['거래금액합'] / data['거래량']"
   ]
  },
  {
   "cell_type": "markdown",
   "metadata": {},
   "source": [
    "#### 거래금액 결측치 처리"
   ]
  },
  {
   "cell_type": "markdown",
   "metadata": {},
   "source": [
    "- 결측치일 시 가장 마지막 거래를 기준\n",
    "- 결측치가 일정 수준 이상일 시 삭제 고려"
   ]
  },
  {
   "cell_type": "code",
   "execution_count": 25,
   "metadata": {},
   "outputs": [],
   "source": [
    "table = data[['도로명주소', '전용면적구간', '건축년도']].drop_duplicates().reset_index(drop=True)\n",
    "table = pd.DataFrame(map(lambda x: np.repeat(table[x].to_numpy(),29), table.columns), index=table.columns).T\n",
    "table['분기'] = np.tile([f'{2016+i//4} {i%4+1}Q' for i in range(32)][2:-1], table.shape[0]//29)\n",
    "data = table.merge(data, on=['도로명주소','전용면적구간', '분기', '건축년도'], how='left')"
   ]
  },
  {
   "cell_type": "code",
   "execution_count": 26,
   "metadata": {},
   "outputs": [
    {
     "data": {
      "text/plain": [
       "도로명주소              0\n",
       "전용면적구간             0\n",
       "건축년도               0\n",
       "분기                 0\n",
       "전용면적합        1154553\n",
       "거래금액합        1154553\n",
       "거래량          1154553\n",
       "단위면적당거래금액    1154553\n",
       "평균거래금액       1154553\n",
       "dtype: int64"
      ]
     },
     "execution_count": 26,
     "metadata": {},
     "output_type": "execute_result"
    }
   ],
   "source": [
    "data.isna().sum()"
   ]
  },
  {
   "cell_type": "code",
   "execution_count": 27,
   "metadata": {},
   "outputs": [],
   "source": [
    "data['거래량'].fillna(0, inplace=True)\n",
    "data.loc[::29,:].fillna(0, inplace=True)\n",
    "data.fillna(method='ffill', inplace=True)\n",
    "data['거래존재여부'] = data['거래량']>0\n",
    "data=data[data['분기']>='2017 3Q']"
   ]
  },
  {
   "cell_type": "code",
   "execution_count": 28,
   "metadata": {},
   "outputs": [],
   "source": [
    "data.to_csv('data/apt_trade_data.csv', encoding='cp949', index=False)"
   ]
  },
  {
   "cell_type": "code",
   "execution_count": 29,
   "metadata": {},
   "outputs": [],
   "source": [
    "import seaborn as sns"
   ]
  },
  {
   "cell_type": "code",
   "execution_count": 30,
   "metadata": {},
   "outputs": [
    {
     "data": {
      "image/png": "[encoded data removed]",
      "text/plain": [
       "<Figure size 640x480 with 1 Axes>"
      ]
     },
     "metadata": {},
     "output_type": "display_data"
    }
   ],
   "source": [
    "table = data.groupby(['도로명주소', '전용면적구간'])[['거래존재여부']].agg('sum').reset_index()\n",
    "sns.histplot(table['거래존재여부'], binwidth=1);"
   ]
  }
 ],
 "metadata": {
  "kernelspec": {
   "display_name": "Python 3",
   "language": "python",
   "name": "python3"
  },
  "language_info": {
   "codemirror_mode": {
    "name": "ipython",
    "version": 3
   },
   "file_extension": ".py",
   "mimetype": "text/x-python",
   "name": "python",
   "nbconvert_exporter": "python",
   "pygments_lexer": "ipython3",
   "version": "3.10.11"
  }
 },
 "nbformat": 4,
 "nbformat_minor": 2
}
