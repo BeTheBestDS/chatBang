{
 "cells": [
  {
   "cell_type": "code",
   "execution_count": 30,
   "metadata": {},
   "outputs": [],
   "source": [
    "import pandas as pd\n",
    "import numpy as np\n",
    "import warnings\n",
    "\n",
    "warnings.filterwarnings(\"ignore\")"
   ]
  },
  {
   "cell_type": "code",
   "execution_count": 31,
   "metadata": {},
   "outputs": [],
   "source": [
    "data1 = pd.read_csv('data/raw_data/ms_data_raw.csv').iloc[:,1:]\n",
    "data2 = pd.read_csv('data/raw_data/2023년도_학교기본정보(중)_전체.csv')"
   ]
  },
  {
   "cell_type": "code",
   "execution_count": 32,
   "metadata": {},
   "outputs": [],
   "source": [
    "to_replace = {\n",
    "    '상일여자중학교':'상일중학교',\n",
    "    '미양중학교':'솔샘중학교',\n",
    "    '보영여자중학교':'한빛누리중학교',\n",
    "    '의정부서중학교':'다온중학교',\n",
    "    '송탄제일중학교':'라온중학교',\n",
    "    '협성중학교':'협성경복중학교',\n",
    "    '재능중학교':'인천재능중학교',\n",
    "    '울산여자중학교':'가온중학교',\n",
    "    '조치원여자중학교':'세종중학교',\n",
    "    '북평여자중학교':'예람중학교',\n",
    "    '묵호여자중학교':'하랑중학교',\n",
    "    '삼척여자중학교':'청아중학교',\n",
    "    '설악여자중학교':'설온중학교',\n",
    "    '속초여자중학교':'속초해랑중학교',\n",
    "    '양구여자중학교':'석천중학교',\n",
    "    '북원여자중학교':'북원중학교',\n",
    "    '춘천여자중학교':'봄내중학교',\n",
    "    '황지여자중학교':'세연중학교',\n",
    "    '금암중학교':'계룡중학교',\n",
    "    '건양중학교':'건양대학교병설건양중학교',\n",
    "    '계광중학교':'천안계광중학교',\n",
    "    '원이중학교이원분교장':'원이중학교이원분교',\n",
    "    '고창여자중학교':'자유중학교',\n",
    "    '금성여자중학교':'금성중학교',\n",
    "    '김제여자중학교':'한들중학교',\n",
    "    '부안여자중학교':'낭주중학교',\n",
    "    '전주효문여자중학교':'전주효문중학교',\n",
    "    '정읍여자중학교':'샘고을중학교',\n",
    "    '정일여자중학교':'정일중학교',\n",
    "    '장흥여자중학교':'장흥향원중학교',\n",
    "    '자인여자중학교':'경산제일중학교',\n",
    "    '장목중학교':'장목예술중학교',\n",
    "    '경상대학교사범대학부설중학교':'경상국립대학교사범대학부설중학교',\n",
    "    '삼산승영중학교':'승영중학교',\n",
    "    '대전신일여자중학교':'대전신일중학교'\n",
    "}"
   ]
  },
  {
   "cell_type": "code",
   "execution_count": 33,
   "metadata": {},
   "outputs": [],
   "source": [
    "data1['학교명'] = data1['학교명'].replace(to_replace)"
   ]
  },
  {
   "cell_type": "code",
   "execution_count": 34,
   "metadata": {},
   "outputs": [],
   "source": [
    "data1['학교명'] = data1['도']+' '+data1['학교명']"
   ]
  },
  {
   "cell_type": "code",
   "execution_count": 35,
   "metadata": {},
   "outputs": [],
   "source": [
    "idx = data1[data1['학교명'].isin(data1['학교명'].value_counts()[data1['학교명'].value_counts()>1].index)].index\n",
    "data1.loc[idx, '학교명'] = data1.loc[idx, '학교명'] + ' ' + data1.loc[idx, '시군구']"
   ]
  },
  {
   "cell_type": "code",
   "execution_count": 36,
   "metadata": {},
   "outputs": [
    {
     "name": "stdout",
     "output_type": "stream",
     "text": [
      "3004 3004\n"
     ]
    }
   ],
   "source": [
    "print(data1['학교명'].nunique(), data1.shape[0])"
   ]
  },
  {
   "cell_type": "code",
   "execution_count": 37,
   "metadata": {},
   "outputs": [],
   "source": [
    "data2 = data2[~data2['학교명'].str.contains('예술|국제|체육')]"
   ]
  },
  {
   "cell_type": "code",
   "execution_count": 38,
   "metadata": {},
   "outputs": [],
   "source": [
    "data2['지역'] = data2['지역'].fillna(data2['시도교육청'])"
   ]
  },
  {
   "cell_type": "code",
   "execution_count": 39,
   "metadata": {},
   "outputs": [],
   "source": [
    "data2['지역'] = data2['지역'].apply(lambda x: x.split()[0])\n",
    "for k,v in {'특별':'','자치':'','광역':'','도':'','시':'','경상':'경','전라':'전','충청':'충','교육청':''}.items():\n",
    "    data2['지역'] = data2['지역'].str.replace(k,v)"
   ]
  },
  {
   "cell_type": "code",
   "execution_count": 40,
   "metadata": {},
   "outputs": [],
   "source": [
    "data2['학교명'] = data2['지역'] + ' ' + data2['학교명']"
   ]
  },
  {
   "cell_type": "code",
   "execution_count": 41,
   "metadata": {},
   "outputs": [],
   "source": [
    "idx = data2[data2['학교명'].isin(data2['학교명'].value_counts()[data2['학교명'].value_counts()>1].index)].index\n",
    "data2.loc[idx, '학교명'] = data2.loc[idx, '학교명'] + ' ' + data2.loc[idx, '학교도로명 주소'].apply(lambda x: x.split()[1])"
   ]
  },
  {
   "cell_type": "code",
   "execution_count": 42,
   "metadata": {},
   "outputs": [],
   "source": [
    "data2 = data2.merge(data1, on='학교명')[['학교명','위도','경도','평균','졸업자수']]"
   ]
  },
  {
   "cell_type": "code",
   "execution_count": 43,
   "metadata": {},
   "outputs": [],
   "source": [
    "data2['평균'] = data2['평균'].str.replace('%','').astype(float)\n",
    "data2['졸업자수'] = data2['졸업자수'].str.replace('명','').astype(int)"
   ]
  },
  {
   "cell_type": "code",
   "execution_count": 44,
   "metadata": {},
   "outputs": [
    {
     "data": {
      "text/html": [
       "<div>\n",
       "<style scoped>\n",
       "    .dataframe tbody tr th:only-of-type {\n",
       "        vertical-align: middle;\n",
       "    }\n",
       "\n",
       "    .dataframe tbody tr th {\n",
       "        vertical-align: top;\n",
       "    }\n",
       "\n",
       "    .dataframe thead th {\n",
       "        text-align: right;\n",
       "    }\n",
       "</style>\n",
       "<table border=\"1\" class=\"dataframe\">\n",
       "  <thead>\n",
       "    <tr style=\"text-align: right;\">\n",
       "      <th></th>\n",
       "      <th>학교명</th>\n",
       "      <th>위도</th>\n",
       "      <th>경도</th>\n",
       "      <th>평균</th>\n",
       "      <th>졸업자수</th>\n",
       "    </tr>\n",
       "  </thead>\n",
       "  <tbody>\n",
       "    <tr>\n",
       "      <th>417</th>\n",
       "      <td>부산 학산여자중학교</td>\n",
       "      <td>12.909518</td>\n",
       "      <td>129.095183</td>\n",
       "      <td>76.9</td>\n",
       "      <td>91</td>\n",
       "    </tr>\n",
       "  </tbody>\n",
       "</table>\n",
       "</div>"
      ],
      "text/plain": [
       "            학교명         위도          경도    평균  졸업자수\n",
       "417  부산 학산여자중학교  12.909518  129.095183  76.9    91"
      ]
     },
     "execution_count": 44,
     "metadata": {},
     "output_type": "execute_result"
    }
   ],
   "source": [
    "data2[data2['위도']<33]"
   ]
  },
  {
   "cell_type": "code",
   "execution_count": 45,
   "metadata": {},
   "outputs": [],
   "source": [
    "data2.loc[417, ['위도','경도']] = [35.2047506, 129.0962459]"
   ]
  },
  {
   "cell_type": "code",
   "execution_count": 49,
   "metadata": {},
   "outputs": [
    {
     "data": {
      "text/html": [
       "<div>\n",
       "<style scoped>\n",
       "    .dataframe tbody tr th:only-of-type {\n",
       "        vertical-align: middle;\n",
       "    }\n",
       "\n",
       "    .dataframe tbody tr th {\n",
       "        vertical-align: top;\n",
       "    }\n",
       "\n",
       "    .dataframe thead th {\n",
       "        text-align: right;\n",
       "    }\n",
       "</style>\n",
       "<table border=\"1\" class=\"dataframe\">\n",
       "  <thead>\n",
       "    <tr style=\"text-align: right;\">\n",
       "      <th></th>\n",
       "      <th>학교명</th>\n",
       "      <th>위도</th>\n",
       "      <th>경도</th>\n",
       "      <th>평균</th>\n",
       "      <th>졸업자수</th>\n",
       "    </tr>\n",
       "  </thead>\n",
       "  <tbody>\n",
       "    <tr>\n",
       "      <th>2758</th>\n",
       "      <td>경남 곤양중학교</td>\n",
       "      <td>35.0335</td>\n",
       "      <td>112.758238</td>\n",
       "      <td>61.3</td>\n",
       "      <td>18</td>\n",
       "    </tr>\n",
       "  </tbody>\n",
       "</table>\n",
       "</div>"
      ],
      "text/plain": [
       "           학교명       위도          경도    평균  졸업자수\n",
       "2758  경남 곤양중학교  35.0335  112.758238  61.3    18"
      ]
     },
     "execution_count": 49,
     "metadata": {},
     "output_type": "execute_result"
    }
   ],
   "source": [
    "data2[data2['경도']<124]"
   ]
  },
  {
   "cell_type": "code",
   "execution_count": 50,
   "metadata": {},
   "outputs": [],
   "source": [
    "data2.loc[2758, ['위도','경도']] = [35.0598195, 127.973135]"
   ]
  },
  {
   "cell_type": "code",
   "execution_count": 53,
   "metadata": {},
   "outputs": [
    {
     "data": {
      "text/plain": [
       "학교명     0\n",
       "위도      0\n",
       "경도      0\n",
       "평균      0\n",
       "졸업자수    0\n",
       "dtype: int64"
      ]
     },
     "execution_count": 53,
     "metadata": {},
     "output_type": "execute_result"
    }
   ],
   "source": [
    "data2.isna().sum()"
   ]
  },
  {
   "cell_type": "code",
   "execution_count": 52,
   "metadata": {},
   "outputs": [],
   "source": [
    "data2.to_csv('data/ms_data.csv', encoding='cp949', index=False)"
   ]
  }
 ],
 "metadata": {
  "kernelspec": {
   "display_name": "Python 3",
   "language": "python",
   "name": "python3"
  },
  "language_info": {
   "codemirror_mode": {
    "name": "ipython",
    "version": 3
   },
   "file_extension": ".py",
   "mimetype": "text/x-python",
   "name": "python",
   "nbconvert_exporter": "python",
   "pygments_lexer": "ipython3",
   "version": "3.10.11"
  }
 },
 "nbformat": 4,
 "nbformat_minor": 2
}
